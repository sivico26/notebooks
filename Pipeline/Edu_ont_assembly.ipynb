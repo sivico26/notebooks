{
 "cells": [
  {
   "cell_type": "markdown",
   "metadata": {},
   "source": [
    "# **Ensamble de Genomas con ONT: Paso a paso**"
   ]
  },
  {
   "cell_type": "markdown",
   "metadata": {},
   "source": [
    "## Simón Villanueva Corrales\n"
   ]
  },
  {
   "cell_type": "markdown",
   "metadata": {},
   "source": [
    "Los pasos generales para un ensamble con tecnología ONT son:"
   ]
  },
  {
   "cell_type": "markdown",
   "metadata": {},
   "source": [
    "<img src=\"https://raw.githubusercontent.com/sivico26/notebooks/master/Pipeline/Images/steps.png\" width=600>"
   ]
  },
  {
   "cell_type": "markdown",
   "metadata": {},
   "source": [
    "Esta guía contiene una breve explicación de cada uno de los pasos y un caso sencillo que se utilizará para ilustrar el accionar de cada uno. "
   ]
  },
  {
   "cell_type": "code",
   "execution_count": 117,
   "metadata": {},
   "outputs": [
    {
     "name": "stdout",
     "output_type": "stream",
     "text": [
      "mkdir: cannot create directory ‘Archivos_sim_ont’: File exists\n"
     ]
    }
   ],
   "source": [
    "mkdir Archivos_sim_ont"
   ]
  },
  {
   "cell_type": "markdown",
   "metadata": {},
   "source": [
    "Los programas que se utilizarán en cada paso destacan por su velocidad de procesamiento más que por su precisión u otra característica."
   ]
  },
  {
   "cell_type": "markdown",
   "metadata": {},
   "source": [
    "## **Simulación de datos**"
   ]
  },
  {
   "cell_type": "markdown",
   "metadata": {},
   "source": [
    "Utilizaremos [Nanosim-h](https://github.com/karel-brinda/NanoSim-H), un simulador de datos de nanopore que ya está entrenado para generar reads de ciertos organismos. Generaremos datos, ¿cómo no?, de un genoma de *E. coli* de referencia"
   ]
  },
  {
   "cell_type": "code",
   "execution_count": 43,
   "metadata": {},
   "outputs": [
    {
     "name": "stdout",
     "output_type": "stream",
     "text": [
      "usage: nanosim-h [-h] [-p str] [-o str] [-n int] [-u float] [-m float]\n",
      "                 [-i float] [-d float] [-s int] [--circular] [--perfect]\n",
      "                 [--merge-contigs] [--rnf] [--rnf-add-cigar] [--max-len int]\n",
      "                 [--min-len int] [--kmer-bias int]\n",
      "                 <reference.fa>\n",
      "\n",
      "Program:  NanoSim-H - a simulator of Oxford Nanopore reads.\n",
      "Version:  1.1.0.3\n",
      "Authors:  Chen Yang <cheny@bcgsc.ca> - author of the original software package (NanoSim)\n",
      "          Karel Brinda <kbrinda@hsph.harvard.edu> - author of the NanoSim-H fork\n",
      "\n",
      "positional arguments:\n",
      "  <reference.fa>        reference genome (- for standard input)\n",
      "\n",
      "optional arguments:\n",
      "  -h, --help            show this help message and exit\n",
      "  -p str, --profile str\n",
      "                        error profile - one of precomputed profiles\n",
      "                        ('ecoli_R7', 'ecoli_R9_2D', 'ecoli_R9_1D',\n",
      "                        'ecoli_UCSC1b', 'ecoli_R7.3', 'yeast') or own\n",
      "                        directory with an error profile [ecoli_R9_2D]\n",
      "  -o str, --out-pref str\n",
      "                        prefix of output file [simulated]\n",
      "  -n int, --number int  number of generated reads [10000]\n",
      "  -u float, --unalign-rate float\n",
      "                        rate of unaligned reads [detect from the error\n",
      "                        profile]\n",
      "  -m float, --mis-rate float\n",
      "                        mismatch rate (weight tuning) [1.0]\n",
      "  -i float, --ins-rate float\n",
      "                        insertion rate (weight tuning) [1.0]\n",
      "  -d float, --del-rate float\n",
      "                        deletion rate (weight tuning) [1.0]\n",
      "  -s int, --seed int    initial seed for the pseudorandom number generator (0\n",
      "                        for random) [42]\n",
      "  --circular            circular simulation (linear otherwise)\n",
      "  --perfect             output perfect reads, no mutations\n",
      "  --merge-contigs       merge contigs from the reference\n",
      "  --rnf                 use RNF format for read names\n",
      "  --rnf-add-cigar       add cigar to RNF names (not fully debugged, yet)\n",
      "  --max-len int         maximum read length [inf]\n",
      "  --min-len int         minimum read length [50]\n",
      "  --kmer-bias int       prohibits homopolymers with length >= n bases in\n",
      "                        output reads [6]\n",
      "\n",
      "Examples: nanosim-h --circular ecoli_ref.fasta\n",
      "          nanosim-h --circular --perfect ecoli_ref.fasta\n",
      "          nanosim-h -p yeast --kmer-bias 0 yeast_ref.fasta\n",
      "\n",
      "Notice: the use of `max-len` and `min-len` will affect the read length distributions. If\n",
      "the range between `max-len` and `min-len` is too small, the program will run slowlier accordingly.\n"
     ]
    }
   ],
   "source": [
    "!nanosim-h -h"
   ]
  },
  {
   "cell_type": "code",
   "execution_count": 100,
   "metadata": {},
   "outputs": [],
   "source": [
    "!mkdir Archivos_sim_ont/sim_reads"
   ]
  },
  {
   "cell_type": "code",
   "execution_count": 145,
   "metadata": {},
   "outputs": [
    {
     "name": "stdout",
     "output_type": "stream",
     "text": [
      "albacore_output   Ensamble\t Polishing\t\t      sim_reads\n",
      "e_coli_ref.fasta  Muestra_fast5  reads_lambda_albacore.fastq\n"
     ]
    }
   ],
   "source": [
    "!ls Archivos_sim_ont/"
   ]
  },
  {
   "cell_type": "code",
   "execution_count": 147,
   "metadata": {},
   "outputs": [
    {
     "name": "stdout",
     "output_type": "stream",
     "text": [
      "albacore_output   Ensamble\t Polishing\t\t      sim_reads\n",
      "e_coli_ref.fasta  Muestra_fast5  reads_lambda_albacore.fastq\n"
     ]
    }
   ],
   "source": [
    "!ls ~/Documents/Notebooks/Pipeline/Archivos_sim_ont/"
   ]
  },
  {
   "cell_type": "code",
   "execution_count": 148,
   "metadata": {},
   "outputs": [
    {
     "name": "stdout",
     "output_type": "stream",
     "text": [
      "Using profile ecoli_R9_2D from default profiles\n",
      "Simulating unaligned reads\n",
      "100% (6 of 6) |##########################| Elapsed Time: 0:00:00 Time:  0:00:00\n",
      "Simulating aligned reads\n",
      "100% (94 of 94) |########################| Elapsed Time: 0:00:02 Time:  0:00:02\n"
     ]
    }
   ],
   "source": [
    "!cd Archivos_sim_ont/sim_reads/ && nanosim-h --circular -n 100 --rnf -o ec ~/Documents/Notebooks/Pipeline/Archivos_sim_ont/e_coli_ref.fasta"
   ]
  },
  {
   "cell_type": "code",
   "execution_count": 116,
   "metadata": {},
   "outputs": [
    {
     "name": "stdout",
     "output_type": "stream",
     "text": [
      "usage: nanosim-h [-h] [-p str] [-o str] [-n int] [-u float] [-m float]\n",
      "                 [-i float] [-d float] [-s int] [--circular] [--perfect]\n",
      "                 [--merge-contigs] [--rnf] [--rnf-add-cigar] [--max-len int]\n",
      "                 [--min-len int] [--kmer-bias int]\n",
      "                 <reference.fa>\n",
      "nanosim-h: error: argument <reference.fa>: can't open '/home/sivico26/Documents/Notebooks/Pipeline/Archivos_sim_ont/e_coli.ref.fasta': [Errno 2] No such file or directory: '/home/sivico26/Documents/Notebooks/Pipeline/Archivos_sim_ont/e_coli.ref.fasta'\n"
     ]
    }
   ],
   "source": [
    "!nanosim-h --circular -n 100 --rnf -o ecoli /home/sivico26/Documents/Notebooks/Pipeline/Archivos_sim_ont/e_coli.ref.fasta"
   ]
  },
  {
   "cell_type": "markdown",
   "metadata": {},
   "source": [
    "## **Basecalling**\n"
   ]
  },
  {
   "cell_type": "markdown",
   "metadata": {},
   "source": [
    "Por la naturaleza de la tecnología (una buena explicación puede encontrarse en este [video](https://nanoporetech.com/resource-centre/videos/nanopore-dna-sequencing)), los datos que genera Nanopore son series de tiempo de señal eléctrica. Es por esto que lo primero que debe hacerse es interpretar esta señal y \"asignar las bases\"(basecall) correspondientes a cada variación."
   ]
  },
  {
   "cell_type": "markdown",
   "metadata": {},
   "source": [
    "<img src=\"https://konradpaszkiewicz.files.wordpress.com/2014/04/capture5.png\">"
   ]
  },
  {
   "cell_type": "markdown",
   "metadata": {},
   "source": [
    "El basecaller más utilizado actualmente es Albacore, desarrollado por ONT, el cual ofrece la mejor combinación entre precisión y velocidad."
   ]
  },
  {
   "cell_type": "markdown",
   "metadata": {},
   "source": [
    "Este paso es, en nuestro caso, el cuello de botella del proceso, ya que no podemos darnos el lujo de cambiar velocidad por precisión, puesto que afectaría seriamente los pasos posteriores"
   ]
  },
  {
   "cell_type": "code",
   "execution_count": 149,
   "metadata": {},
   "outputs": [
    {
     "name": "stdout",
     "output_type": "stream",
     "text": [
      "| 100 of 100|##############################################|100% Time:  0:00:30\n"
     ]
    }
   ],
   "source": [
    "!read_fast5_basecaller.py -r -i Archivos_sim_ont/Muestra_fast5/ -f FLO-MIN106 -k SQK-RAD002 -s Archivos_sim_ont/albacore_output -o fast5,fastq -t 4"
   ]
  },
  {
   "cell_type": "markdown",
   "metadata": {},
   "source": [
    "Verifiquemos cuantos de los reads evaluados pasaron"
   ]
  },
  {
   "cell_type": "code",
   "execution_count": 114,
   "metadata": {},
   "outputs": [
    {
     "name": "stdout",
     "output_type": "stream",
     "text": [
      "63\n"
     ]
    }
   ],
   "source": [
    "!ls Archivos_sim_ont/albacore_output/workspace/pass/0 | wc -l"
   ]
  },
  {
   "cell_type": "markdown",
   "metadata": {},
   "source": [
    "De un total de 100 reads de prueba, 63 pasaron el basecalling con suficiente calidad (usualmente es mayor la proporción)"
   ]
  },
  {
   "cell_type": "markdown",
   "metadata": {},
   "source": [
    "## **Reads QC**"
   ]
  },
  {
   "cell_type": "markdown",
   "metadata": {},
   "source": [
    "Antes de empezar con los siguientes pasos veamos los reads que tenemos (del fago lambda)"
   ]
  },
  {
   "cell_type": "markdown",
   "metadata": {},
   "source": [
    "El siguiente script hará un data frame de pandas para sacar los datos más relevantes de los reads."
   ]
  },
  {
   "cell_type": "code",
   "execution_count": 138,
   "metadata": {
    "collapsed": true
   },
   "outputs": [],
   "source": [
    "from Bio import SeqIO\n",
    "from Bio.SeqUtils import GC\n",
    "\n",
    "import numpy as np\n",
    "import pandas as pd\n",
    "import re\n",
    "\n",
    "#Función para hacer un dataframe de pandas desde un fasta o fastq\n",
    "def read_sequence_file(filename, format):\n",
    "    rows = []\n",
    "    columns = ['id', 'sequence', 'read_length', 'gc_content']\n",
    "    if(format == 'fastq'):\n",
    "        columns.append('avg_quality')\n",
    "    for seq_record in SeqIO.parse(filename, format):\n",
    "        if(format == 'fastq'):\n",
    "            quality_score = np.mean(seq_record.letter_annotations[\"phred_quality\"])\n",
    "        read_id = seq_record.description\n",
    "        if(format == 'fastq'):\n",
    "            rows.append([read_id, seq_record.seq, len(seq_record.seq), GC(seq_record.seq), quality_score])\n",
    "        else:\n",
    "            rows.append([read_id, seq_record.seq, len(seq_record.seq), GC(seq_record.seq)])  \n",
    "        \n",
    "    df = pd.DataFrame(rows, columns=columns)\n",
    "    return df"
   ]
  },
  {
   "cell_type": "code",
   "execution_count": 139,
   "metadata": {
    "collapsed": true
   },
   "outputs": [],
   "source": [
    "seq_df = read_sequence_file('/home/sivico26/Documents/Notebooks/Pipeline/Archivos_sim_ont/reads_lambda_albacore.fastq', 'fastq')"
   ]
  },
  {
   "cell_type": "code",
   "execution_count": 140,
   "metadata": {},
   "outputs": [
    {
     "data": {
      "text/html": [
       "<div>\n",
       "<style scoped>\n",
       "    .dataframe tbody tr th:only-of-type {\n",
       "        vertical-align: middle;\n",
       "    }\n",
       "\n",
       "    .dataframe tbody tr th {\n",
       "        vertical-align: top;\n",
       "    }\n",
       "\n",
       "    .dataframe thead th {\n",
       "        text-align: right;\n",
       "    }\n",
       "</style>\n",
       "<table border=\"1\" class=\"dataframe\">\n",
       "  <thead>\n",
       "    <tr style=\"text-align: right;\">\n",
       "      <th></th>\n",
       "      <th>read_length</th>\n",
       "      <th>gc_content</th>\n",
       "      <th>avg_quality</th>\n",
       "    </tr>\n",
       "  </thead>\n",
       "  <tbody>\n",
       "    <tr>\n",
       "      <th>count</th>\n",
       "      <td>23083.000000</td>\n",
       "      <td>23083.000000</td>\n",
       "      <td>23083.000000</td>\n",
       "    </tr>\n",
       "    <tr>\n",
       "      <th>mean</th>\n",
       "      <td>4795.898627</td>\n",
       "      <td>49.344589</td>\n",
       "      <td>13.678540</td>\n",
       "    </tr>\n",
       "    <tr>\n",
       "      <th>std</th>\n",
       "      <td>6057.034726</td>\n",
       "      <td>5.959169</td>\n",
       "      <td>2.307329</td>\n",
       "    </tr>\n",
       "    <tr>\n",
       "      <th>min</th>\n",
       "      <td>5.000000</td>\n",
       "      <td>17.241379</td>\n",
       "      <td>4.100000</td>\n",
       "    </tr>\n",
       "    <tr>\n",
       "      <th>25%</th>\n",
       "      <td>1461.000000</td>\n",
       "      <td>45.213929</td>\n",
       "      <td>12.097495</td>\n",
       "    </tr>\n",
       "    <tr>\n",
       "      <th>50%</th>\n",
       "      <td>3008.000000</td>\n",
       "      <td>48.780488</td>\n",
       "      <td>13.734980</td>\n",
       "    </tr>\n",
       "    <tr>\n",
       "      <th>75%</th>\n",
       "      <td>6035.000000</td>\n",
       "      <td>54.925265</td>\n",
       "      <td>15.275225</td>\n",
       "    </tr>\n",
       "    <tr>\n",
       "      <th>max</th>\n",
       "      <td>193287.000000</td>\n",
       "      <td>71.949829</td>\n",
       "      <td>21.077437</td>\n",
       "    </tr>\n",
       "  </tbody>\n",
       "</table>\n",
       "</div>"
      ],
      "text/plain": [
       "         read_length    gc_content   avg_quality\n",
       "count   23083.000000  23083.000000  23083.000000\n",
       "mean     4795.898627     49.344589     13.678540\n",
       "std      6057.034726      5.959169      2.307329\n",
       "min         5.000000     17.241379      4.100000\n",
       "25%      1461.000000     45.213929     12.097495\n",
       "50%      3008.000000     48.780488     13.734980\n",
       "75%      6035.000000     54.925265     15.275225\n",
       "max    193287.000000     71.949829     21.077437"
      ]
     },
     "execution_count": 140,
     "metadata": {},
     "output_type": "execute_result"
    }
   ],
   "source": [
    "seq_df.describe()"
   ]
  },
  {
   "cell_type": "markdown",
   "metadata": {},
   "source": [
    "¿Y eso cómo se ve? veamos unas distribuciones"
   ]
  },
  {
   "cell_type": "code",
   "execution_count": 142,
   "metadata": {},
   "outputs": [
    {
     "data": {
      "image/png": "[encoded data removed]",
      "text/plain": [
       "<matplotlib.figure.Figure at 0x7fb3fc2bb080>"
      ]
     },
     "metadata": {},
     "output_type": "display_data"
    }
   ],
   "source": [
    "import matplotlib.mlab as mlab\n",
    "import matplotlib.pyplot as plt\n",
    "import matplotlib\n",
    "\n",
    "#tamaño de la figura\n",
    "matplotlib.rcParams['figure.figsize'] = (9, 8)\n",
    "\n",
    "# ggplot style \n",
    "plt.style.use('seaborn-notebook')\n",
    "\n",
    "#On the plt.hist parameters we can set the number of bins and the bar color using labels as 'blue', 'red', 'yellow'... or using a RGB code.\n",
    "plt.hist(seq_df['read_length'], bins=50, color='#ef8a62')\n",
    "plt.title('Read length histogram')\n",
    "plt.xlabel('Read length in bp')\n",
    "plt.ylabel('Count')\n",
    "\n",
    "plt.show()"
   ]
  },
  {
   "cell_type": "markdown",
   "metadata": {},
   "source": [
    "¿Y la calidad?"
   ]
  },
  {
   "cell_type": "code",
   "execution_count": 144,
   "metadata": {
    "collapsed": true
   },
   "outputs": [
    {
     "data": {
      "image/png": "[encoded data removed]",
      "text/plain": [
       "<matplotlib.figure.Figure at 0x7fb3fa0c5438>"
      ]
     },
     "metadata": {},
     "output_type": "display_data"
    }
   ],
   "source": [
    "#Only works with FASTQ files\n",
    "plt.hist(seq_df['avg_quality'], bins=50, color='#ef8a62')\n",
    "plt.title('Average quality histogram')\n",
    "plt.xlabel('Average quality of the read')\n",
    "plt.ylabel('Count')\n",
    "\n",
    "plt.show()"
   ]
  },
  {
   "cell_type": "markdown",
   "metadata": {},
   "source": [
    "## **Read to Read Overlap**"
   ]
  },
  {
   "cell_type": "markdown",
   "metadata": {},
   "source": [
    "Ya que tenemos los reads con sus bases asignadas (formato fastq o fasta), seguimos con el overlap, que es un mapeo buscando coincidencias entre los reads para posteriormente pasar al ensamble. "
   ]
  },
  {
   "cell_type": "markdown",
   "metadata": {},
   "source": [
    "De aquí en más usaremos datos del fago lambda"
   ]
  },
  {
   "cell_type": "markdown",
   "metadata": {},
   "source": [
    "El programa que usaremos será [Minimap2](https://github.com/lh3/minimap2), la versión mejorada de Minimap. Minimap2 cuenta con una configuración precargada especificamente para este paso: "
   ]
  },
  {
   "cell_type": "code",
   "execution_count": 118,
   "metadata": {},
   "outputs": [
    {
     "name": "stdout",
     "output_type": "stream",
     "text": [
      "Usage: minimap2 [options] <target.fa>|<target.idx> [query.fa] [...]\n",
      "Options:\n",
      "  Indexing:\n",
      "    -H           use homopolymer-compressed k-mer\n",
      "    -k INT       k-mer size (no larger than 28) [15]\n",
      "    -w INT       minizer window size [10]\n",
      "    -I NUM       split index for every ~NUM input bases [4G]\n",
      "    -d FILE      dump index to FILE []\n",
      "  Mapping:\n",
      "    -f FLOAT     filter out top FLOAT fraction of repetitive minimizers [0.0002]\n",
      "    -g NUM       stop chain enlongation if there are no minimizers in INT-bp [5000]\n",
      "    -G NUM       max intron length (effective with -xsplice; changing -r) [200k]\n",
      "    -F NUM       max fragment length (effective with -xsr or in the fragment mode) [800]\n",
      "    -r NUM       bandwidth used in chaining and DP-based alignment [500]\n",
      "    -n INT       minimal number of minimizers on a chain [3]\n",
      "    -m INT       minimal chaining score (matching bases minus log gap penalty) [40]\n",
      "    -X           skip self and dual mappings (for the all-vs-all mode)\n",
      "    -p FLOAT     min secondary-to-primary score ratio [0.8]\n",
      "    -N INT       retain at most INT secondary alignments [5]\n",
      "  Alignment:\n",
      "    -A INT       matching score [2]\n",
      "    -B INT       mismatch penalty [4]\n",
      "    -O INT[,INT] gap open penalty [4,24]\n",
      "    -E INT[,INT] gap extension penalty; a k-long gap costs min{O1+k*E1,O2+k*E2} [2,1]\n",
      "    -z INT[,INT] Z-drop score and inversion Z-drop score [400,200]\n",
      "    -s INT       minimal peak DP alignment score [80]\n",
      "    -u CHAR      how to find GT-AG. f:transcript strand, b:both strands, n:don't match GT-AG [n]\n",
      "  Input/Output:\n",
      "    -a           output in the SAM format (PAF by default)\n",
      "    -Q           don't output base quality in SAM\n",
      "    -L           write CIGAR with >65535 ops at the CG tag\n",
      "    -R STR       SAM read group line in a format like '@RG\\tID:foo\\tSM:bar' []\n",
      "    -c           output CIGAR in PAF\n",
      "    --cs[=STR]   output the cs tag; STR is 'short' (if absent) or 'long' [none]\n",
      "    --MD         output the MD tag\n",
      "    -Y           use soft clipping for supplementary alignments\n",
      "    -t INT       number of threads [3]\n",
      "    -K NUM       minibatch size for mapping [500M]\n",
      "    --version    show version number\n",
      "  Preset:\n",
      "    -x STR       preset (always applied before other options) []\n",
      "                 map-pb: -Hk19 (PacBio vs reference mapping)\n",
      "                 map-ont: -k15 (Oxford Nanopore vs reference mapping)\n",
      "                 asm5: -k19 -w19 -A1 -B19 -O39,81 -E3,1 -s200 -z200 (asm to ref mapping; break at 5% div.)\n",
      "                 asm10: -k19 -w19 -A1 -B9 -O16,41 -E2,1 -s200 -z200 (asm to ref mapping; break at 10% div.)\n",
      "                 ava-pb: -Hk19 -Xw5 -m100 -g10000 --max-chain-skip 25 (PacBio read overlap)\n",
      "                 ava-ont: -k15 -Xw5 -m100 -g10000 -r2000 --max-chain-skip 25 (ONT read overlap)\n",
      "                 splice: long-read spliced alignment (see minimap2.1 for details)\n",
      "                 sr: short single-end reads without splicing (see minimap2.1 for details)\n",
      "\n",
      "See `man ./minimap2.1' for detailed description of command-line options.\n"
     ]
    }
   ],
   "source": [
    "! minimap2 -h"
   ]
  },
  {
   "cell_type": "code",
   "execution_count": 119,
   "metadata": {},
   "outputs": [],
   "source": [
    "!mkdir Archivos_sim_ont/Ensamble"
   ]
  },
  {
   "cell_type": "code",
   "execution_count": 126,
   "metadata": {},
   "outputs": [
    {
     "name": "stdout",
     "output_type": "stream",
     "text": [
      "[M::mm_idx_gen::5.540*1.30] collected minimizers\n",
      "[M::mm_idx_gen::7.445*1.73] sorted minimizers\n",
      "[M::main::7.445*1.73] loaded/built the index for 23083 target sequence(s)\n",
      "[M::mm_mapopt_update::8.096*1.67] mid_occ = 401\n",
      "[M::mm_idx_stat] kmer size: 15; skip: 5; is_hpc: 0; #seq: 23083\n",
      "[M::mm_idx_stat::8.503*1.64] distinct minimizers: 19092294 (80.61% are singletons); average occurrences: 1.968; average spacing: 2.947\n",
      "[M::worker_pipeline::168.868*2.64] mapped 23083 sequences\n",
      "[M::main] Version: 2.10-r761\n",
      "[M::main] CMD: minimap2 -x ava-ont Archivos_sim_ont/reads_lambda_albacore.fastq Archivos_sim_ont/reads_lambda_albacore.fastq\n",
      "[M::main] Real time: 168.905 sec; CPU: 445.987 sec\n"
     ]
    }
   ],
   "source": [
    "!minimap2 -x ava-ont Archivos_sim_ont/reads_lambda_albacore.fastq Archivos_sim_ont/reads_lambda_albacore.fastq > Archivos_sim_ont/Ensamble/ovlp_fl.paf "
   ]
  },
  {
   "cell_type": "markdown",
   "metadata": {},
   "source": [
    "## **Ensamble**"
   ]
  },
  {
   "cell_type": "markdown",
   "metadata": {},
   "source": [
    "Una vez hallados los overlaps, se procedeal ensamble como tal, en el que se toman los averlaps y se trata de construir en el menor número de contigs posibles (idealmente el número de contigs es igual al número de cromosomas)"
   ]
  },
  {
   "cell_type": "markdown",
   "metadata": {},
   "source": [
    "Usaremos [Miniasm](https://github.com/lh3/miniasm), un ensamblador OLC desarrollado para ir de la mano con minimap."
   ]
  },
  {
   "cell_type": "code",
   "execution_count": 127,
   "metadata": {},
   "outputs": [
    {
     "name": "stdout",
     "output_type": "stream",
     "text": [
      "miniasm: option requires an argument -- 'h'\n",
      "Usage: miniasm [options] <in.paf>\n",
      "Options:\n",
      "  Pre-selection:\n",
      "    -m INT      min match length [100]\n",
      "    -i FLOAT    min identity [0.05]\n",
      "    -s INT      min span [2000]\n",
      "    -c INT      min coverage [3]\n",
      "  Overlap:\n",
      "    -o INT      min overlap [same as -s]\n",
      "    -h INT      max over hang length [1000]\n",
      "    -I FLOAT    min end-to-end match ratio [0.8]\n",
      "  Layout:\n",
      "    -g INT      max gap differences between reads for trans-reduction [1000]\n",
      "    -d INT      max distance for bubble popping [50000]\n",
      "    -e INT      small unitig threshold [4]\n",
      "    -f FILE     read sequences []\n",
      "    -n INT      rounds of short overlap removal [3]\n",
      "    -r FLOAT[,FLOAT]\n",
      "                max and min overlap drop ratio [0.7,0.5]\n",
      "    -F FLOAT    aggressive overlap drop ratio in the end [0.8]\n",
      "  Miscellaneous:\n",
      "    -p STR      output information: bed, paf, sg or ug [ug]\n",
      "    -b          both directions of an arc are present in input\n",
      "    -1          skip 1-pass read selection\n",
      "    -2          skip 2-pass read selection\n",
      "    -V          print version number\n",
      "\n",
      "See miniasm.1 for detailed description of the command-line options.\n"
     ]
    }
   ],
   "source": [
    "!miniasm -h"
   ]
  },
  {
   "cell_type": "code",
   "execution_count": 129,
   "metadata": {},
   "outputs": [
    {
     "name": "stdout",
     "output_type": "stream",
     "text": [
      "[M::main] ===> Step 1: reading read mappings <===\n",
      "[M::ma_hit_read::25.667*1.00] read 13671141 hits; stored 17996729 hits and 13331 sequences (93372637 bp)\n",
      "[M::main] ===> Step 2: 1-pass (crude) read selection <===\n",
      "[M::ma_hit_sub::30.126*1.00] 12950 query sequences remain after sub\n",
      "[M::ma_hit_cut::30.540*1.00] 17912211 hits remain after cut\n",
      "[M::ma_hit_flt::31.055*1.00] 17110407 hits remain after filtering; crude coverage after filtering: 1015.33\n",
      "[M::main] ===> Step 3: 2-pass (fine) read selection <===\n",
      "[M::ma_hit_sub::33.229*1.00] 12906 query sequences remain after sub\n",
      "[M::ma_hit_cut::33.629*1.00] 17084609 hits remain after cut\n",
      "[M::ma_hit_contained::34.204*1.00] 16 sequences and 156 hits remain after containment removal\n",
      "[M::main] ===> Step 4: graph cleaning <===\n",
      "[M::ma_sg_gen] read 138 arcs\n",
      "[M::main] ===> Step 4.1: transitive reduction <===\n",
      "[M::asg_arc_del_trans] transitively reduced 97 arcs\n",
      "[M::asg_arc_del_multi] removed 0 multi-arcs\n",
      "[M::asg_arc_del_asymm] removed 3 asymmetric arcs\n",
      "[M::main] ===> Step 4.2: initial tip cutting and bubble popping <===\n",
      "[M::asg_cut_tip] cut 4 tips\n",
      "[M::asg_pop_bubble] popped 1 bubbles and trimmed 0 tips\n",
      "[M::main] ===> Step 4.3: cutting short overlaps (3 rounds in total) <===\n",
      "[M::asg_arc_del_short] removed 0 short overlaps\n",
      "[M::asg_arc_del_short] removed 0 short overlaps\n",
      "[M::asg_arc_del_short] removed 0 short overlaps\n",
      "[M::main] ===> Step 4.4: removing short internal sequences and bi-loops <===\n",
      "[M::asg_cut_internal] cut 0 internal sequences\n",
      "[M::asg_cut_biloop] cut 0 small bi-loops\n",
      "[M::asg_cut_tip] cut 0 tips\n",
      "[M::asg_pop_bubble] popped 0 bubbles and trimmed 0 tips\n",
      "[M::main] ===> Step 4.5: aggressively cutting short overlaps <===\n",
      "[M::asg_arc_del_short] removed 0 short overlaps\n",
      "[M::main] ===> Step 5: generating unitigs <===\n",
      "[M::main] Version: 0.2-r128\n",
      "[M::main] CMD: miniasm -f Archivos_sim_ont/reads_lambda_albacore.fastq Archivos_sim_ont/Ensamble/ovlp_fl.paf\n",
      "[M::main] Real time: 34.631 sec; CPU: 34.632 sec\n"
     ]
    }
   ],
   "source": [
    "!miniasm -f Archivos_sim_ont/reads_lambda_albacore.fastq Archivos_sim_ont/Ensamble/ovlp_fl.paf > Archivos_sim_ont/Ensamble/fago_lambda_raw.gfa"
   ]
  },
  {
   "cell_type": "markdown",
   "metadata": {},
   "source": [
    "Ahora cambiemos el formato a algo más conocido (gfa to fasta)"
   ]
  },
  {
   "cell_type": "code",
   "execution_count": 131,
   "metadata": {},
   "outputs": [],
   "source": [
    "!awk '/^S/{print \">\"$2\"\\n\"$3}' Archivos_sim_ont/Ensamble/fago_lambda_raw.gfa | fold > Archivos_sim_ont/Ensamble/fago_lambda_raw.fasta"
   ]
  },
  {
   "cell_type": "markdown",
   "metadata": {},
   "source": [
    "Ahora veamos el número de contigs del ensamble:"
   ]
  },
  {
   "cell_type": "code",
   "execution_count": 132,
   "metadata": {},
   "outputs": [
    {
     "name": "stdout",
     "output_type": "stream",
     "text": [
      "1\n"
     ]
    }
   ],
   "source": [
    "!grep -c \">\" Archivos_sim_ont/Ensamble/fago_lambda_raw.fasta  "
   ]
  },
  {
   "cell_type": "markdown",
   "metadata": {},
   "source": [
    "¡Un exitoso ensamble de un solo Contig!\n"
   ]
  },
  {
   "cell_type": "markdown",
   "metadata": {},
   "source": [
    "## **Read Mapping**"
   ]
  },
  {
   "cell_type": "markdown",
   "metadata": {},
   "source": [
    "Aunque hayamos logrado hacer un ensamble de un solo contig, es bastante probable que esté lleno de errores, por lo que hay que corregirlos. El primer paso en para hacer esto es volver a mappear los reads en al ensamble."
   ]
  },
  {
   "cell_type": "markdown",
   "metadata": {},
   "source": [
    "Para esto, volveremos a utilizar Minimap2, pero con otra configuración"
   ]
  },
  {
   "cell_type": "code",
   "execution_count": 133,
   "metadata": {},
   "outputs": [],
   "source": [
    "!mkdir Archivos_sim_ont/Polishing"
   ]
  },
  {
   "cell_type": "code",
   "execution_count": 134,
   "metadata": {},
   "outputs": [
    {
     "name": "stdout",
     "output_type": "stream",
     "text": [
      "[M::mm_idx_gen::0.005*1.30] collected minimizers\n",
      "[M::mm_idx_gen::0.009*1.94] sorted minimizers\n",
      "[M::main::0.009*1.93] loaded/built the index for 1 target sequence(s)\n",
      "[M::mm_mapopt_update::0.009*1.84] mid_occ = 2\n",
      "[M::mm_idx_stat] kmer size: 15; skip: 10; is_hpc: 0; #seq: 1\n",
      "[M::mm_idx_stat::0.010*1.76] distinct minimizers: 9304 (100.00% are singletons); average occurrences: 1.000; average spacing: 5.324\n",
      "[M::worker_pipeline::2.995*2.52] mapped 23083 sequences\n",
      "[M::main] Version: 2.10-r761\n",
      "[M::main] CMD: minimap2 -x map-ont Archivos_sim_ont/Ensamble/fago_lambda_raw.fasta Archivos_sim_ont/reads_lambda_albacore.fastq\n",
      "[M::main] Real time: 2.997 sec; CPU: 7.561 sec\n"
     ]
    }
   ],
   "source": [
    "!minimap2 -x map-ont Archivos_sim_ont/Ensamble/fago_lambda_raw.fasta Archivos_sim_ont/reads_lambda_albacore.fastq > Archivos_sim_ont/Polishing/aln_fl.paf"
   ]
  },
  {
   "cell_type": "markdown",
   "metadata": {},
   "source": [
    "## **Polishing**"
   ]
  },
  {
   "cell_type": "markdown",
   "metadata": {},
   "source": [
    "Finalmente haremos polishing, que consiste en corregir el ensamble que tenemos al compararlo nuevamente con los reads que fueron mapeados en el paso anterior"
   ]
  },
  {
   "cell_type": "markdown",
   "metadata": {},
   "source": [
    "Para un polishing rápido usaremos [Racon](https://github.com/isovic/racon)"
   ]
  },
  {
   "cell_type": "code",
   "execution_count": null,
   "metadata": {},
   "outputs": [],
   "source": [
    "!racon /home/sivico26/Documents/Notebooks/Pipeline/Archivos_sim_ont/reads_lambda_albacore.fastq /home/sivico26/Documents/Notebooks/Pipeline/Archivos_sim_ont/Polishing/aln_fl.paf /home/sivico26/Documents/Notebooks/Pipeline/Archivos_sim_ont/Ensamble/fago_lambda_raw.fasta > /home/sivico26/Documents/Notebooks/Pipeline/Archivos_sim_ont/Polishing/fago_lambda_pol.fasta"
   ]
  },
  {
   "cell_type": "markdown",
   "metadata": {},
   "source": [
    "Por alguna razón el resultado no se muestra, pero `Racon` efectivamente corrió"
   ]
  },
  {
   "cell_type": "markdown",
   "metadata": {},
   "source": [
    "## **Assembly QC**"
   ]
  },
  {
   "cell_type": "markdown",
   "metadata": {},
   "source": [
    "¿Cómo de determinar si el ensamble es realmente bueno? suelen usarse varias métricas para evaluar el ensamble, como el número de contigs, el n50, etc; pero también se debe evaluar a precisión y para eso se debe comparar con una referencia. "
   ]
  },
  {
   "cell_type": "code",
   "execution_count": 153,
   "metadata": {},
   "outputs": [
    {
     "name": "stdout",
     "output_type": "stream",
     "text": [
      "QUAST: Quality Assessment Tool for Genome Assemblies\n",
      "Version: 5.0.0.dev0, 1563de2\n",
      "\n",
      "Usage: python /home/sivico26/anaconda3/bin/quast.py [options] <files_with_contigs>\n",
      "\n",
      "Options:\n",
      "-o  --output-dir  <dirname>       Directory to store all result files [default: quast_results/results_<datetime>]\n",
      "-r                <filename>      Reference genome file\n",
      "-g  --features [type:]<filename>  File with genomic feature coordinates in the reference (GFF, BED, NCBI or TXT)\n",
      "                                  Optional 'type' can be specified for extracting only a specific feature type from GFF\n",
      "-m  --min-contig  <int>           Lower threshold for contig length [default: 500]\n",
      "-t  --threads     <int>           Maximum number of threads [default: 25% of CPUs]\n",
      "\n",
      "Advanced options:\n",
      "-s  --scaffolds                       Assemblies are scaffolds, split them and add contigs to the comparison\n",
      "-l  --labels \"label, label, ...\"      Names of assemblies to use in reports, comma-separated. If contain spaces, use quotes\n",
      "-L                                    Take assembly names from their parent directory names\n",
      "-e  --eukaryote                       Genome is eukaryotic (primarily affects gene prediction)\n",
      "    --fungus                          Genome is fungal (primarily affects gene prediction)\n",
      "    --large                           Use optimal parameters for evaluation of large genomes\n",
      "                                      In particular, imposes '-e -m 3000 -i 500 -x 7000' (can be overridden manually)\n",
      "-k  --k-mer-stats                     Compute k-mer-based quality metrics (recommended for large genomes)\n",
      "                                      This may significantly increase memory and time consumption on large genomes\n",
      "    --k-mer-size                      Size of k used in --k-mer-stats [default: 101]\n",
      "    --circos                          Draw Circos plot\n",
      "-f  --gene-finding                    Predict genes using GeneMarkS (prokaryotes, default) or GeneMark-ES (eukaryotes, use --eukaryote)\n",
      "    --mgm                             Use MetaGeneMark for gene prediction (instead of the default finder, see above)\n",
      "    --glimmer                         Use GlimmerHMM for gene prediction (instead of the default finder, see above)\n",
      "    --gene-thresholds <int,int,...>   Comma-separated list of threshold lengths of genes to search with Gene Finding module\n",
      "                                      [default: 0,300,1500,3000]\n",
      "    --rna-finding                     Predict ribosomal RNA genes using Barrnap\n",
      "-b  --conserved-genes-finding         Count conserved orthologs using BUSCO (only on Linux)\n",
      "-O  --operons  <filename>             File with operon coordinates in the reference (GFF, BED, NCBI or TXT)\n",
      "    --est-ref-size <int>              Estimated reference size (for computing NGx metrics without a reference)\n",
      "    --contig-thresholds <int,int,...> Comma-separated list of contig length thresholds [default: 0,1000,5000,10000,25000,50000]\n",
      "-u  --use-all-alignments              Compute genome fraction, # genes, # operons in QUAST v1.* style.\n",
      "                                      By default, QUAST filters Minimap's alignments to keep only best ones\n",
      "-i  --min-alignment <int>             The minimum alignment length [default: 65]\n",
      "    --min-identity <float>            The minimum alignment identity (80.0, 100.0) [default: 95.0]\n",
      "-a  --ambiguity-usage <none|one|all>  Use none, one, or all alignments of a contig when all of them\n",
      "                                      are almost equally good (see --ambiguity-score) [default: one]\n",
      "    --ambiguity-score <float>         Score S for defining equally good alignments of a single contig. All alignments are sorted \n",
      "                                      by decreasing LEN * IDY% value. All alignments with LEN * IDY% < S * best(LEN * IDY%) are \n",
      "                                      discarded. S should be between 0.8 and 1.0 [default: 0.99]\n",
      "    --strict-NA                       Break contigs in any misassembly event when compute NAx and NGAx.\n",
      "                                      By default, QUAST breaks contigs only by extensive misassemblies (not local ones)\n",
      "-x  --extensive-mis-size  <int>       Lower threshold for extensive misassembly size. All relocations with inconsistency\n",
      "                                      less than extensive-mis-size are counted as local misassemblies [default: 1000]\n",
      "    --scaffold-gap-max-size  <int>    Max allowed scaffold gap length difference. All relocations with inconsistency\n",
      "                                      less than scaffold-gap-size are counted as scaffold gap misassemblies [default: 10000]\n",
      "    --unaligned-part-size  <int>      Lower threshold for detecting partially unaligned contigs. Such contig should have\n",
      "                                      at least one unaligned fragment >= the threshold [default: 500]\n",
      "    --fragmented                      Reference genome may be fragmented into small pieces (e.g. scaffolded reference) \n",
      "    --fragmented-max-indent  <int>    Mark translocation as fake if both alignments are located no further than N bases \n",
      "                                      from the ends of the reference fragments [default: 50]\n",
      "                                      Requires --fragmented option\n",
      "    --upper-bound-assembly            Simulate upper bound assembly based on the reference genome and reads\n",
      "    --upper-bound-min-con  <int>      Minimal number of 'connecting reads' needed for joining upper bound contigs into a scaffold\n",
      "                                      [default: 2 for mate-pairs and 1 for long reads]\n",
      "    --est-insert-size  <int>          Use provided insert size in upper bound assembly simulation [default: auto detect from reads or 255]\n",
      "    --plots-format  <str>             Save plots in specified format [default: pdf].\n",
      "                                      Supported formats: emf, eps, pdf, png, ps, raw, rgba, svg, svgz\n",
      "    --memory-efficient                Run everything using one thread, separately per each assembly.\n",
      "                                      This may significantly reduce memory consumption on large genomes\n",
      "    --space-efficient                 Create only reports and plots files. Aux files including .stdout, .stderr, .coords will not be created.\n",
      "                                      This may significantly reduce space consumption on large genomes. Icarus viewers also will not be built\n",
      "-1  --reads1  <filename>              File with forward reads (in FASTQ format, may be gzipped)\n",
      "-2  --reads2  <filename>              File with reverse reads (in FASTQ format, may be gzipped)\n",
      "    --12      <filename>              File with interlaced forward and reverse paired-end reads. (in FASTQ format, may be gzipped)\n",
      "    --pe1     <filename>              File with forward paired-end reads (in FASTQ format, may be gzipped)\n",
      "    --pe2     <filename>              File with reverse paired-end reads (in FASTQ format, may be gzipped)\n",
      "    --pe12    <filename>              File with interlaced forward and reverse paired-end reads (in FASTQ format, may be gzipped)\n",
      "    --mp1     <filename>              File with forward mate-pair reads (in FASTQ format, may be gzipped)\n",
      "    --mp2     <filename>              File with reverse mate-pair reads (in FASTQ format, may be gzipped)\n",
      "    --mp12    <filename>              File with interlaced forward and reverse mate-pair reads (in FASTQ format, may be gzipped)\n",
      "    --single  <filename>              File with unpaired reads (in FASTQ format, may be gzipped)\n",
      "    --pacbio  <filename>              File with PacBio reads (in FASTQ format, may be gzipped)\n",
      "    --nanopore  <filename>            File with Oxford Nanopore reads (in FASTQ format, may be gzipped)\n",
      "    --ref-sam <filename>              SAM alignment file obtained by aligning reads to reference genome file\n",
      "    --ref-bam <filename>              BAM alignment file obtained by aligning reads to reference genome file\n",
      "    --sam     <filename,filename,...> Comma-separated list of SAM alignment files obtained by aligning reads to assemblies\n",
      "                                      (use the same order as for files with contigs)\n",
      "    --bam     <filename,filename,...> Comma-separated list of BAM alignment files obtained by aligning reads to assemblies\n",
      "                                      (use the same order as for files with contigs)\n",
      "                                      Reads (or SAM/BAM file) are used for structural variation detection and\n",
      "                                      coverage histogram building in Icarus\n",
      "    --sv-bedpe  <filename>            File with structural variations (in BEDPE format)\n",
      "\n",
      "Speedup options:\n",
      "    --no-check                        Do not check and correct input fasta files. Use at your own risk (see manual)\n",
      "    --no-plots                        Do not draw plots\n",
      "    --no-html                         Do not build html reports and Icarus viewers\n",
      "    --no-icarus                       Do not build Icarus viewers\n",
      "    --no-snps                         Do not report SNPs (may significantly reduce memory consumption on large genomes)\n",
      "    --no-gc                           Do not compute GC% and GC-distribution\n",
      "    --no-sv                           Do not run structural variation detection (make sense only if reads are specified)\n",
      "    --no-gzip                         Do not compress large output files\n",
      "    --no-read-stats                   Do not align reads to assemblies\n",
      "                                      Reads will be aligned to reference and used for coverage analysis,\n",
      "                                      upper bound assembly simulation, and structural variation detection.\n",
      "                                      Use this option if you do not need read statistics for assemblies.\n",
      "    --fast                            A combination of all speedup options except --no-check\n",
      "\n",
      "Other:\n",
      "    --silent                          Do not print detailed information about each step to stdout (log file is not affected)\n",
      "    --test                            Run QUAST on the data from the test_data folder, output to quast_test_output\n",
      "    --test-sv                         Run QUAST with structural variants detection on the data from the test_data folder,\n",
      "                                      output to quast_test_output\n",
      "-h  --help                            Print full usage message\n",
      "-v  --version                         Print version\n",
      "\n",
      "Online QUAST manual is available at http://quast.sf.net/manual\n"
     ]
    }
   ],
   "source": [
    "!quast.py -h"
   ]
  },
  {
   "cell_type": "code",
   "execution_count": 156,
   "metadata": {},
   "outputs": [
    {
     "name": "stdout",
     "output_type": "stream",
     "text": [
      "Archivos_sim_ont  Edu_ont_assembly.ipynb  Images  pipeline_notes.ipynb\n"
     ]
    }
   ],
   "source": [
    "!ls"
   ]
  },
  {
   "cell_type": "code",
   "execution_count": 158,
   "metadata": {},
   "outputs": [
    {
     "name": "stdout",
     "output_type": "stream",
     "text": [
      "/home/sivico26/anaconda3/lib/python3.6/site-packages/quast-5.0.0.dev0-py3.6.egg/EGG-INFO/scripts/quast.py -t 4 Archivos_sim_ont/Ensamble/fago_lambda_raw.fasta Archivos_sim_ont/Polishing/fago_lambda_pol.fasta -R Archivos_sim_ont/fago_lambda_ref.fasta -o Archivos_sim_ont/quast_results\n",
      "\n",
      "Version: 5.0.0.dev0, 1563de2\n",
      "\n",
      "System information:\n",
      "  OS: Linux-4.13.0-38-generic-x86_64-with-debian-stretch-sid (linux_64)\n",
      "  Python version: 3.6.3\n",
      "  CPUs number: 8\n",
      "\n",
      "Started: 2018-04-26 13:57:51\n",
      "\n",
      "Logging to /home/sivico26/Documents/Notebooks/Pipeline/Archivos_sim_ont/quast_results/quast.log\n",
      "\n",
      "CWD: /home/sivico26/Documents/Notebooks/Pipeline\n",
      "Main parameters: \n",
      "  MODE: default, threads: 4, minimum contig length: 500, minimum alignment length: 65, \\\n",
      "  ambiguity: one, threshold for extensive misassembly size: 1000\n",
      "\n",
      "Reference:\n",
      "  /home/sivico26/Documents/Notebooks/Pipeline/Archivos_sim_ont/fago_lambda_ref.fasta ==> fago_lambda_ref\n",
      "\n",
      "Contigs:\n",
      "  Pre-processing...\n",
      "  1  Archivos_sim_ont/Ensamble/fago_lambda_raw.fasta ==> fago_lambda_raw\n",
      "  2  Archivos_sim_ont/Polishing/fago_lambda_pol.fasta ==> fago_lambda_pol\n",
      "\n",
      "2018-04-26 13:57:52\n",
      "Running Basic statistics processor...\n",
      "  Reference genome:\n",
      "    fago_lambda_ref.fasta, length = 48502, num fragments = 1, GC % = 49.86\n",
      "  Contig files: \n",
      "    1  fago_lambda_raw\n",
      "    2  fago_lambda_pol\n",
      "  Calculating N50 and L50...\n",
      "    1  fago_lambda_raw, N50 = 49533, L50 = 1, Total length = 49533, GC % = 49.20, # N's per 100 kbp =  0.00\n",
      "    2  fago_lambda_pol, N50 = 49310, L50 = 1, Total length = 49310, GC % = 49.09, # N's per 100 kbp =  0.00\n",
      "  Drawing Nx plot...\n",
      "    saved to /home/sivico26/Documents/Notebooks/Pipeline/Archivos_sim_ont/quast_results/basic_stats/Nx_plot.pdf\n",
      "  Drawing NGx plot...\n",
      "    saved to /home/sivico26/Documents/Notebooks/Pipeline/Archivos_sim_ont/quast_results/basic_stats/NGx_plot.pdf\n",
      "  Drawing cumulative plot...\n",
      "    saved to /home/sivico26/Documents/Notebooks/Pipeline/Archivos_sim_ont/quast_results/basic_stats/cumulative_plot.pdf\n",
      "  Drawing GC content plot...\n",
      "    saved to /home/sivico26/Documents/Notebooks/Pipeline/Archivos_sim_ont/quast_results/basic_stats/GC_content_plot.pdf\n",
      "  Drawing fago_lambda_raw GC content plot...\n",
      "    saved to /home/sivico26/Documents/Notebooks/Pipeline/Archivos_sim_ont/quast_results/basic_stats/fago_lambda_raw_GC_content_plot.pdf\n",
      "  Drawing fago_lambda_pol GC content plot...\n",
      "    saved to /home/sivico26/Documents/Notebooks/Pipeline/Archivos_sim_ont/quast_results/basic_stats/fago_lambda_pol_GC_content_plot.pdf\n",
      "Done.\n",
      "\n",
      "2018-04-26 13:57:54\n",
      "Running Contig analyzer...\n",
      "  2  fago_lambda_pol\n",
      "  1  fago_lambda_raw\n",
      "  2  Logging to files /home/sivico26/Documents/Notebooks/Pipeline/Archivos_sim_ont/quast_results/contigs_reports/contigs_report_fago_lambda_pol.stdout and contigs_report_fago_lambda_pol.stderr...\n",
      "  1  Logging to files /home/sivico26/Documents/Notebooks/Pipeline/Archivos_sim_ont/quast_results/contigs_reports/contigs_report_fago_lambda_raw.stdout and contigs_report_fago_lambda_raw.stderr...\n",
      "  2  Aligning contigs to the reference\n",
      "  1  Aligning contigs to the reference\n",
      "  1  Analysis is finished.\n",
      "  2  Analysis is finished.\n",
      "  Creating total report...\n",
      "    saved to /home/sivico26/Documents/Notebooks/Pipeline/Archivos_sim_ont/quast_results/contigs_reports/misassemblies_report.txt, misassemblies_report.tsv, and misassemblies_report.tex\n",
      "  Transposed version of total report...\n",
      "    saved to /home/sivico26/Documents/Notebooks/Pipeline/Archivos_sim_ont/quast_results/contigs_reports/transposed_report_misassemblies.txt, transposed_report_misassemblies.tsv, and transposed_report_misassemblies.tex\n",
      "  Creating total report...\n",
      "    saved to /home/sivico26/Documents/Notebooks/Pipeline/Archivos_sim_ont/quast_results/contigs_reports/unaligned_report.txt, unaligned_report.tsv, and unaligned_report.tex\n",
      "  Drawing misassemblies by types plot...\n",
      "    saved to /home/sivico26/Documents/Notebooks/Pipeline/Archivos_sim_ont/quast_results/contigs_reports/misassemblies_plot.pdf\n",
      "  Drawing misassemblies FRCurve plot...\n",
      "    saved to /home/sivico26/Documents/Notebooks/Pipeline/Archivos_sim_ont/quast_results/contigs_reports/misassemblies_frcurve_plot.pdf\n",
      "Done.\n",
      "\n",
      "2018-04-26 13:57:57\n",
      "Running NA-NGA calculation...\n",
      "  1  fago_lambda_raw, Largest alignment = 113, NA50 = None, LA50 = None\n",
      "  2  fago_lambda_pol, Largest alignment = 34257, NA50 = 34257, NGA50 = 34257, LA50 = 1, LGA50 = 1\n",
      "  Drawing cumulative plot...\n",
      "    saved to /home/sivico26/Documents/Notebooks/Pipeline/Archivos_sim_ont/quast_results/aligned_stats/cumulative_plot.pdf\n",
      "  Drawing NAx plot...\n",
      "    saved to /home/sivico26/Documents/Notebooks/Pipeline/Archivos_sim_ont/quast_results/aligned_stats/NAx_plot.pdf\n",
      "  Drawing NGAx plot...\n",
      "    saved to /home/sivico26/Documents/Notebooks/Pipeline/Archivos_sim_ont/quast_results/aligned_stats/NGAx_plot.pdf\n",
      "Done.\n",
      "\n",
      "2018-04-26 13:57:58\n",
      "Running Genome analyzer...\n",
      "  NOTICE: No file with genomic features were provided. Use the --features option if you want to specify it.\n",
      "\n",
      "  NOTICE: No file with operons were provided. Use the -O option if you want to specify it.\n",
      "  1  fago_lambda_raw\n",
      "  2  fago_lambda_pol\n",
      "  1  Analysis is finished.\n",
      "  2  Analysis is finished.\n",
      "  Drawing Genome fraction, % histogram...\n",
      "    saved to /home/sivico26/Documents/Notebooks/Pipeline/Archivos_sim_ont/quast_results/genome_stats/genome_fraction_histogram.pdf\n",
      "Done.\n",
      "\n",
      "NOTICE: Genes are not predicted by default. Use --gene-finding or --glimmer option to enable it.\n",
      "\n",
      "2018-04-26 13:57:59\n",
      "Creating large visual summaries...\n",
      "This may take a while: press Ctrl-C to skip this step..\n",
      "  1 of 2: Creating Icarus viewers...\n",
      "  2 of 2: Creating PDF with all tables and plots...\n",
      "Done\n",
      "\n",
      "2018-04-26 13:58:01\n",
      "RESULTS:\n",
      "  Text versions of total report are saved to /home/sivico26/Documents/Notebooks/Pipeline/Archivos_sim_ont/quast_results/report.txt, report.tsv, and report.tex\n",
      "  Text versions of transposed total report are saved to /home/sivico26/Documents/Notebooks/Pipeline/Archivos_sim_ont/quast_results/transposed_report.txt, transposed_report.tsv, and transposed_report.tex\n",
      "  HTML version (interactive tables and plots) saved to /home/sivico26/Documents/Notebooks/Pipeline/Archivos_sim_ont/quast_results/report.html\n",
      "  PDF version (tables and plots) is saved to /home/sivico26/Documents/Notebooks/Pipeline/Archivos_sim_ont/quast_results/report.pdf\n",
      "  Icarus (contig browser) is saved to /home/sivico26/Documents/Notebooks/Pipeline/Archivos_sim_ont/quast_results/icarus.html\n",
      "  Log saved to /home/sivico26/Documents/Notebooks/Pipeline/Archivos_sim_ont/quast_results/quast.log\n",
      "\n",
      "Finished: 2018-04-26 13:58:01\n",
      "Elapsed time: 0:00:09.711855\n",
      "NOTICEs: 3; WARNINGs: 0; non-fatal ERRORs: 0\n",
      "\n",
      "Thank you for using QUAST!\n"
     ]
    }
   ],
   "source": [
    "!quast.py -t 4 Archivos_sim_ont/Ensamble/fago_lambda_raw.fasta Archivos_sim_ont/Polishing/fago_lambda_pol.fasta -R Archivos_sim_ont/fago_lambda_ref.fasta -o Archivos_sim_ont/quast_results"
   ]
  }
 ],
 "metadata": {
  "kernelspec": {
   "display_name": "Python 3",
   "language": "python",
   "name": "python3"
  },
  "language_info": {
   "codemirror_mode": {
    "name": "ipython",
    "version": 3
   },
   "file_extension": ".py",
   "mimetype": "text/x-python",
   "name": "python",
   "nbconvert_exporter": "python",
   "pygments_lexer": "ipython3",
   "version": "3.6.3"
  }
 },
 "nbformat": 4,
 "nbformat_minor": 2
}
