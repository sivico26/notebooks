{
 "cells": [
  {
   "cell_type": "markdown",
   "metadata": {},
   "source": [
    "# **Structure of a Review Article: Title to Conclusion**"
   ]
  },
  {
   "cell_type": "markdown",
   "metadata": {},
   "source": [
    "## **History and purpose of review articles**"
   ]
  },
  {
   "cell_type": "markdown",
   "metadata": {},
   "source": [
    "A review is a checkpoint of \"the state-of-the-art\" of a topic. It's purpose is mainly to be the base for further research. The important thing is to reduce the bias of a review at the least amount possible."
   ]
  },
  {
   "cell_type": "markdown",
   "metadata": {},
   "source": [
    "## **The Systematic Review**"
   ]
  },
  {
   "cell_type": "markdown",
   "metadata": {},
   "source": [
    "A systematic review is, as its name well say, a general term to describe any review that is conducted systematically. This includes meta-analyses and other kinds of review. Meta analysis are the ones which have the least bias, due to its mathemathic approach. A systematic review must be done scientifically (replicably)."
   ]
  },
  {
   "cell_type": "markdown",
   "metadata": {},
   "source": [
    "Some methods to make a review:\n",
    "\n",
    "- [Cochrane](http://www.cochranelibrary.com/)\n",
    "- [Centre for Reviews and Dissemination](https://www.york.ac.uk/crd/)\n",
    "- [Joanna Briggs Institute](http://joannabriggs.org/)"
   ]
  }
 ],
 "metadata": {
  "kernelspec": {
   "display_name": "Bash",
   "language": "bash",
   "name": "bash"
  },
  "language_info": {
   "name": ""
  }
 },
 "nbformat": 4,
 "nbformat_minor": 2
}
