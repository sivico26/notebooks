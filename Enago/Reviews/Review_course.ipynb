{
 "cells": [
  {
   "cell_type": "markdown",
   "metadata": {},
   "source": [
    "# **Structure of a Review Article: Title to Conclusion**"
   ]
  },
  {
   "cell_type": "markdown",
   "metadata": {},
   "source": [
    "## **History and purpose of review articles**"
   ]
  },
  {
   "cell_type": "markdown",
   "metadata": {},
   "source": [
    "A review is a checkpoint of \"the state-of-the-art\" of a topic. It's purpose is mainly to be the base for further research. The important thing is to reduce the bias of a review at the least amount possible."
   ]
  },
  {
   "cell_type": "markdown",
   "metadata": {},
   "source": [
    "## **The Systematic Review**"
   ]
  },
  {
   "cell_type": "markdown",
   "metadata": {},
   "source": [
    "A systematic review is, as its name well say, a general term to describe any review that is conducted systematically. This includes meta-analyses and other kinds of review. Meta analysis are the ones which have the least bias, due to its mathemathic approach. A systematic review must be done scientifically (replicably)."
   ]
  },
  {
   "cell_type": "markdown",
   "metadata": {},
   "source": [
    "Some methods to make a review:\n",
    "\n",
    "- [Cochrane](http://www.cochranelibrary.com/)\n",
    "- [Centre for Reviews and Dissemination](https://www.york.ac.uk/crd/)\n",
    "- [Joanna Briggs Institute](http://joannabriggs.org/)"
   ]
  },
  {
   "cell_type": "markdown",
   "metadata": {},
   "source": [
    "## **PRISMA**"
   ]
  },
  {
   "cell_type": "markdown",
   "metadata": {},
   "source": [
    "PRISMA (Preferred Reporting Items for Systematic Reviews and Meta-Analyses) are standarized guidelines for both authors and peer reviewer editors."
   ]
  },
  {
   "cell_type": "markdown",
   "metadata": {},
   "source": [
    "It is available the [checklist](http://www.prisma-statement.org/documents/PRISMA%202009%20checklist.doc) and the [flow diagram](http://journals.plos.org/plosmedicine/article?id=10.1371/journal.pmed.1000097)"
   ]
  },
  {
   "cell_type": "markdown",
   "metadata": {},
   "source": [
    "The PRISMA flowchart is applicable to aby type of review"
   ]
  },
  {
   "cell_type": "markdown",
   "metadata": {},
   "source": [
    "## **Quality assessment in systematic reviews**"
   ]
  },
  {
   "cell_type": "markdown",
   "metadata": {},
   "source": [
    "There are several systems:\n",
    "\n",
    "- Cochrane Colaboration (mainly for clinical)\n",
    "- Critical Appraisal Skills Progamme Oxford UK ([CASP](https://casp-uk.net/)) \n",
    "- Scottish Intercollegiate Guidelines Network ([SIGN](http://www.sign.ac.uk/))"
   ]
  },
  {
   "cell_type": "markdown",
   "metadata": {},
   "source": [
    "The choice could be more a matter of preference due to the wide overlap. However, select and use one is important."
   ]
  },
  {
   "cell_type": "markdown",
   "metadata": {},
   "source": [
    "## **Conducting a Review**"
   ]
  },
  {
   "cell_type": "markdown",
   "metadata": {},
   "source": [
    "A systematic review is distiguished from less formal reviews by the fact that it is a systematic method, and hence replicable. Its steps include:\n",
    "\n",
    "- Defining a research question\n",
    "- Selecting search terms\n",
    "- Setting the dates between which the review will be conducted\n",
    "- Inclusion and exclusion criteria for articles; quality appraisal\n",
    "- Synthesis."
   ]
  },
  {
   "cell_type": "markdown",
   "metadata": {},
   "source": [
    "PICO (Population, Intervention, Comparison, Outcome) system is greatly encouraged to define the research question. PEO (Population, Exposure, Outcome) is an alternative."
   ]
  },
  {
   "cell_type": "markdown",
   "metadata": {},
   "source": [
    "Any systematic review should define some parameters:\n",
    "\n",
    "- Search terms\n",
    "- databases\n",
    "- date limits\n",
    "- inclusion and exclusion criteria\n",
    "- appraisal of articles\n",
    "- and synthesis of the results"
   ]
  },
  {
   "cell_type": "markdown",
   "metadata": {},
   "source": [
    "Do Technologic surveillance: selective equations; sieve by titles; sieve by journal; sieve by kind of document (articles); sieve by abstract; final qualification of papers."
   ]
  },
  {
   "cell_type": "markdown",
   "metadata": {},
   "source": [
    "## **Writing a Review**"
   ]
  },
  {
   "cell_type": "markdown",
   "metadata": {},
   "source": [
    "Make sure that the methods are written first and then the results. Also, any tables and figures should be prepared in advance of the writing and be available as you write."
   ]
  },
  {
   "cell_type": "markdown",
   "metadata": {},
   "source": [
    "To improve \"searchability\", select a set of words to repeat in the title, abstract and keywords. Don't change them. Be specific with the use of these."
   ]
  },
  {
   "cell_type": "markdown",
   "metadata": {},
   "source": [
    "### **Title**"
   ]
  },
  {
   "cell_type": "markdown",
   "metadata": {},
   "source": [
    "Short and acurrate, rid of innecesary material. A single line title ideal, a two lines title is acceptable."
   ]
  },
  {
   "cell_type": "markdown",
   "metadata": {},
   "source": [
    "- Avoid quotes. \n",
    "- Don't use essence describing quotes.\n",
    "- Start with a draft title. \n",
    "- Check it during and after writing, and changed if it doesn't fit the contents."
   ]
  },
  {
   "cell_type": "markdown",
   "metadata": {},
   "source": [
    "### **Abstract**"
   ]
  },
  {
   "cell_type": "markdown",
   "metadata": {},
   "source": [
    "General tips:\n",
    "\n",
    "- Usually ranges from 150 to 350 words\n",
    "- General view, exclude details as statistic results"
   ]
  },
  {
   "cell_type": "markdown",
   "metadata": {},
   "source": [
    "Write the abstract as an structured one, and if needed remove the headings (according to journal):\n",
    "\n",
    "- Aims\n",
    "- Background \n",
    "- Design, Methods \n",
    "- Results \n",
    "- Conclusions"
   ]
  },
  {
   "cell_type": "markdown",
   "metadata": {},
   "source": [
    "#### **Aim**\n"
   ]
  },
  {
   "cell_type": "markdown",
   "metadata": {},
   "source": [
    "Should be presented actively and the best way is simply to start with ‘To’ as in: ‘To review, systematically, the literature related to…’. Avoid using: ‘The aim of this study is to…’ as this adds six unnecessary words; and words are precious in abstracts."
   ]
  },
  {
   "cell_type": "markdown",
   "metadata": {},
   "source": [
    "#### **Background**\n"
   ]
  },
  {
   "cell_type": "markdown",
   "metadata": {},
   "source": [
    "The background sub-section should inform the reader why the study is being done, in as few words as possible"
   ]
  },
  {
   "cell_type": "markdown",
   "metadata": {},
   "source": [
    "#### **Design, Methods**\n"
   ]
  },
  {
   "cell_type": "markdown",
   "metadata": {},
   "source": [
    "It is advisable to make an unambiguous statement describing the design.\n",
    "The methods then need to include what you did to implement the design (Details level depend on journal and asbtract section)."
   ]
  },
  {
   "cell_type": "markdown",
   "metadata": {},
   "source": [
    "#### **Results**\n"
   ]
  },
  {
   "cell_type": "markdown",
   "metadata": {},
   "source": [
    "Mention how many articles were reviewed and something about their main characteristics"
   ]
  },
  {
   "cell_type": "markdown",
   "metadata": {},
   "source": [
    "#### **Conclusion**\n"
   ]
  },
  {
   "cell_type": "markdown",
   "metadata": {},
   "source": [
    "in the conclusion section reflect briefly on the results."
   ]
  },
  {
   "cell_type": "markdown",
   "metadata": {},
   "source": [
    "### **Introduction**"
   ]
  },
  {
   "cell_type": "markdown",
   "metadata": {},
   "source": [
    "Opening paragraph at least should serve as an introduction by which I mean, to set the study in its widest context before focusing on the specific details"
   ]
  },
  {
   "cell_type": "markdown",
   "metadata": {},
   "source": [
    " Imagine that the reader at that point has not read the abstract and only has a vague idea what the study is about. Therefore, in as few words as possible and as early as possible, try to convey: \n",
    "- the context of the study\n",
    "- the reason you are doing the study\n",
    "- why anyone would be interested\n",
    "- and what the benefit of the study may be"
   ]
  },
  {
   "cell_type": "markdown",
   "metadata": {},
   "source": [
    "### **Background**"
   ]
  },
  {
   "cell_type": "markdown",
   "metadata": {},
   "source": [
    "The ‘Backgound’ section should be more detailed and more akin to a small, albeit unsystematic, literature review."
   ]
  },
  {
   "cell_type": "markdown",
   "metadata": {},
   "source": [
    "Opportunity to provide more detail and this section should inform and maintain the interest of a knowledgeable reader as well as the more general reader. Has to adress the key articles of the field, and maybe convey the state of the art."
   ]
  },
  {
   "cell_type": "markdown",
   "metadata": {},
   "source": [
    "The reader should, therefore, be aware of what is known in the field, what the gaps are and what you intend to do; what your review is designed to achieve. "
   ]
  },
  {
   "cell_type": "markdown",
   "metadata": {},
   "source": [
    "The background section should end with the research question"
   ]
  },
  {
   "cell_type": "markdown",
   "metadata": {},
   "source": [
    "### **Methods**"
   ]
  },
  {
   "cell_type": "markdown",
   "metadata": {},
   "source": [
    "If it is a systematic review, the first thing to do is specify which kind of review is, databases consuted,  key terms used in the search, boolean operators, date limits, inclusion/exclusion criteria  and, in general, made the search replicable. Sometimes tables are used to this aim, but is preferable to include a suplementary material if the explanation, as the search, is extensive."
   ]
  },
  {
   "cell_type": "markdown",
   "metadata": {},
   "source": [
    "The way of information's synthsis must be addressed too"
   ]
  },
  {
   "cell_type": "markdown",
   "metadata": {},
   "source": [
    "### **Results**"
   ]
  },
  {
   "cell_type": "markdown",
   "metadata": {},
   "source": [
    "Try to divide the articles in categories somehow. \n",
    "Resist the temptaion of discussing the results"
   ]
  },
  {
   "cell_type": "markdown",
   "metadata": {},
   "source": [
    "### **Discussion**"
   ]
  },
  {
   "cell_type": "markdown",
   "metadata": {},
   "source": [
    "The discussion section of an article is where the work is brought to a completion, the consequences of the results are highlighted and compared with existing knowledge. New knowledge is explained and contextualise and remaining gaps in the literature are pointed out with suggestions for lines of inquiry.\n"
   ]
  },
  {
   "cell_type": "markdown",
   "metadata": {},
   "source": [
    "It is helpful to think of a discussion section in three parts: \n",
    "1. A restatement of the purpose of the review and a statement of the main findings ('The purpose of this review was to…’ , and paraphrase the research question).\n",
    "2. The main part of the discussion presented under themes (‘The main findings of the review were…’, and state these clearly and unambiguously [avoid ambiguity]).\n",
    "3. The consequences and limitations of the review (say what the results mean, what has been shown that is new knowledge and any ongoing gaps).\n",
    "\n",
    "Future lines of research and the limitations of your review—with ideas for improvement should also be stated."
   ]
  },
  {
   "cell_type": "markdown",
   "metadata": {},
   "source": [
    "### **Conclusion**"
   ]
  },
  {
   "cell_type": "markdown",
   "metadata": {},
   "source": [
    "The conclusion is not the place to introduce and new ideas and it is not necessary to use references."
   ]
  },
  {
   "cell_type": "markdown",
   "metadata": {},
   "source": [
    "The conclusion is not the abstract to the study but it is a type of abstract having conducted and written up the study; but the conclusion section is more reflective and obviously retrospective. Therefore, in the conclusion section draw what you consider to be the main outcomes of the study; use bullet points if permitted."
   ]
  },
  {
   "cell_type": "markdown",
   "metadata": {},
   "source": [
    "Keep it short. Use it strategically."
   ]
  },
  {
   "cell_type": "markdown",
   "metadata": {},
   "source": [
    "Readers may read the abstract and jump to conclusions, so try to use both to convey the essence of the article."
   ]
  },
  {
   "cell_type": "markdown",
   "metadata": {},
   "source": [
    "### **Tables and Figures**"
   ]
  },
  {
   "cell_type": "markdown",
   "metadata": {},
   "source": [
    "It is advisable only to add any tables or figures if they genuinely help to clarify or summarise some aspects of the review; do not add either of these unnecessarily."
   ]
  }
 ],
 "metadata": {
  "kernelspec": {
   "display_name": "Bash",
   "language": "bash",
   "name": "bash"
  },
  "language_info": {
   "codemirror_mode": "shell",
   "file_extension": ".sh",
   "mimetype": "text/x-sh",
   "name": "bash"
  }
 },
 "nbformat": 4,
 "nbformat_minor": 2
}
