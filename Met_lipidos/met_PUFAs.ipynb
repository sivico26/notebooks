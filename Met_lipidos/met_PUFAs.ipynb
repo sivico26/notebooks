{
 "cells": [
  {
   "cell_type": "markdown",
   "metadata": {},
   "source": [
    "# **Metabolismo de Lípidos en Sacha Inchi**\n",
    "\n",
    "Debido a que Sacha Inchi no ha sido ampĺiamente estudiada como otros organismos, el KEGG no tiene la ruta metabolica de *Plukenetia volubilis*. Esto nos obliga a estudiar el metabolismo de otro organismo y *suponer* que así es el de Sacha. Para esto lo ideal es escoger el organismo más cercano posible. Hasta ahora el mejor candidato es [*Jatropha curcas*](https://en.wikipedia.org/wiki/Jatropha_curcas), ya que es de la misma familia de que Sacha *Euphorbiaciae* y es al tiempo una oleaginosa.\n",
    "<br>\n",
    "La subfamilia de Sacha es *Acalyphoideae*, podriamos buscar otros candidatos en esa subfamilia."
   ]
  },
  {
   "cell_type": "markdown",
   "metadata": {},
   "source": [
    "¡Lo hicimos! Encontramos que [*Ricinus communis*](https://es.wikipedia.org/wiki/Ricinus_communis) es un familiar más cercano a Sacha que *Jatropha*. Revisando los organismos ofrecidos por el KEGG, *Ricinus* es el más cercano. Así que queda elegido para los estudios de ruta metabólica. Para comparar la taxonomia podemos revisar esta [página](http://eol.org/pages/1152376/hierarchy_entries/57271024/names)"
   ]
  },
  {
   "cell_type": "markdown",
   "metadata": {},
   "source": [
    "El KEGG tiene muchas rutas metabólicas, aquí está la lista [completa](http://www.genome.jp/kegg/pathway.html).\n",
    "<br>\n",
    "Ya entrando en materia, la ruta de síntesis de PUFAs para Ricinus está [aquí](http://www.genome.jp/kegg-bin/show_pathway?org_name=rcu&mapno=01040&mapscale=&show_description=show).\n",
    "Se ve álgo así:\n",
    "![Ruta de PUFAs](http://www.genome.jp/kegg/pathway/rcu/rcu01040.png)"
   ]
  },
  {
   "cell_type": "markdown",
   "metadata": {},
   "source": [
    "En la familia n-3 de 18C, los $\\Delta$9,12 y $\\Delta$9,12,15 son los antecesores a los ácidos linoléico y linolénico respectivamente. Tal parece que la enzima 3.1.2.2 es necesario en ambos casos apra convertir los precursos en los ácidos grasos como tal."
   ]
  },
  {
   "cell_type": "markdown",
   "metadata": {},
   "source": [
    "Las enzímas que nos llamaron la atención son:\n",
    "\n",
    "- La acyl coenzima tioesterasa [EC:3.1.2.2](http://www.genome.jp/dbget-bin/www_bget?rcu:8261870), que se hidrolisa la coenzima-A\n",
    "- La desaturasa $\\Delta9$ [EC:1.14.19.2 1.14.19.11 1.14.19.26](http://www.genome.jp/dbget-bin/www_bget?rcu:107262125+rcu:8263458+rcu:8271760+rcu:8277360) \n",
    "- La desaturasa $\\Delta12$ [EC:1.14.19.6 1.14.19.22](http://www.genome.jp/dbget-bin/www_bget?rcu:8267086)\n",
    "- La desaturasa $\\Delta15$ (infortunadamente no está caracterizada)"
   ]
  }
 ],
 "metadata": {
  "kernelspec": {
   "display_name": "Bash",
   "language": "bash",
   "name": "bash"
  },
  "language_info": {
   "codemirror_mode": "shell",
   "file_extension": ".sh",
   "mimetype": "text/x-sh",
   "name": "bash"
  }
 },
 "nbformat": 4,
 "nbformat_minor": 2
}
