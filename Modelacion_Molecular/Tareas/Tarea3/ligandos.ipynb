{
 "cells": [
  {
   "cell_type": "markdown",
   "metadata": {},
   "source": [
    "# **Tarea 3: Evaluación de ligandos**\n",
    "\n",
    "### Simón Villanueva Corrales"
   ]
  },
  {
   "cell_type": "markdown",
   "metadata": {},
   "source": [
    "#### **Busqueda de ligandos para FAH12**"
   ]
  },
  {
   "cell_type": "markdown",
   "metadata": {},
   "source": [
    "En la busqueda de ligandos para la [FAH12](http://www.uniprot.org/uniprot/Q41131#function) no se encuentran inhibidores estudiados en la literatura(Scholar, Scopus y PubMed), en la que abundan más las mutaciones de esta proteína o sus interacciones con otras partes de la ruta metabólica en la que está involucrada. Como sintoma de esto, la búsqueda en el [Chembl](https://www.ebi.ac.uk/chembl/) tampoco arrojó resultados.\n",
    "<br>\n",
    "Así, el mejor candidato disponible es el primer resultado predicho por [I-TASSER](https://zhanglab.ccmb.med.umich.edu/I-TASSER/output/S384954/), el [Stearyl-CoA](https://www.rcsb.org/ligand/ST9), por lo que se procederá con este ligando de aquí en adelante."
   ]
  },
  {
   "cell_type": "markdown",
   "metadata": {},
   "source": [
    "#### **Búsqueda de homólogos de Stearyl-CoA**"
   ]
  },
  {
   "cell_type": "markdown",
   "metadata": {},
   "source": [
    "[ZINC](http://zinc15.docking.org/) arrojo un total de 617 resultados con un tanimoto 70 para el Stearyl-CoA. Siendo estos demasiados metabolitos, agregamos los siguientes filtros:\n",
    "\n",
    "- Que tuvieran nombre(en ZINC)\n",
    "- Que fueran metabolitos\n",
    "- Que hayan sido reportados en células\n",
    "\n",
    "Y así nos quedamos con una lista de 152 moléculas, la cual fue guardada con sus SMILES y MOL2."
   ]
  },
  {
   "cell_type": "markdown",
   "metadata": {},
   "source": [
    "#### **Propiedades fisicoquímicas y Clustering**"
   ]
  },
  {
   "cell_type": "markdown",
   "metadata": {},
   "source": [
    "Para este set de moleculas se calcularon las propiedades fisicoquimicas con OpenBabel Descriptors, ya que es el set de propiedades más corto y más familiar."
   ]
  },
  {
   "cell_type": "markdown",
   "metadata": {},
   "source": [
    "Hacer hierarchical clustering con molecular weight o con distance matrix para el heatmap, generá exactamente el mismo resultado. Sin embargo, sí se aprecia una gran diferencia entre el Numeric data clustering y el Hierarchucal clustering (ambas hechos con un linkage method average)"
   ]
  },
  {
   "cell_type": "markdown",
   "metadata": {},
   "source": [
    "|Hierarchical clustering | Numeric data clustering |\n",
    "|------------------------|-------------------------|\n",
    "|![hc](hc.png)           |![nc](nc.png)            |"
   ]
  },
  {
   "cell_type": "markdown",
   "metadata": {},
   "source": [
    "En general, puede verse que el Numerical data clustering logra es más homogeneo, agrupa mejor y forma menos y más compactos grupos que el Hierarchical clustering."
   ]
  },
  {
   "cell_type": "markdown",
   "metadata": {},
   "source": [
    "Es difícil decir cuantos grupos se formaron dado no solo la cantidad de moleculas, sino el corte que se quiera hacer en la distribución. Además, las moléculas ya de por sí son muy similares entre sí."
   ]
  },
  {
   "cell_type": "markdown",
   "metadata": {},
   "source": [
    "Usando el Binning clustering con *cutoffs* de 0.7, 0.8 y 0.9 de similaridad, se obtienen las siguientes distribuciones:"
   ]
  },
  {
   "cell_type": "code",
   "execution_count": 1,
   "metadata": {},
   "outputs": [],
   "source": [
    "import pandas as pd\n",
    "import seaborn as sns\n",
    "import matplotlib as plt\n",
    "import pylab"
   ]
  },
  {
   "cell_type": "code",
   "execution_count": 2,
   "metadata": {},
   "outputs": [],
   "source": [
    "bc7 = pd.read_csv('bc07.csv')\n",
    "bc8 = pd.read_csv('bc08.csv')\n",
    "bc9 = pd.read_csv('bc09.csv')"
   ]
  },
  {
   "cell_type": "code",
   "execution_count": 3,
   "metadata": {},
   "outputs": [],
   "source": [
    "bc7[\"CLID_0.7\"].hist(bins = 152)\n",
    "pylab.savefig(\"bc07.png\")\n",
    "plt.pyplot.close()\n",
    "bc8[\"CLID_0.8\"].hist(bins = 152)\n",
    "pylab.savefig(\"bc08.png\")\n",
    "plt.pyplot.close()\n",
    "bc9[\"CLID_0.9\"].hist(bins = 152)\n",
    "pylab.savefig(\"bc09.png\")\n",
    "plt.pyplot.close()"
   ]
  },
  {
   "cell_type": "markdown",
   "metadata": {},
   "source": [
    "### **Binning Clustering**"
   ]
  },
  {
   "cell_type": "markdown",
   "metadata": {},
   "source": [
    "| |\n",
    "|----|-----|-----|\n",
    "|0.7 | 0.8 | 0.9 |\n",
    "| ![07](bc07.png)| ![08](bc08.png)| ![09](bc09.png)|"
   ]
  },
  {
   "cell_type": "markdown",
   "metadata": {},
   "source": [
    "Con 0.7 de similitud, no hay agrupación alguna, todas las moléculas quedan en el mismo grupo. Con 0.8 de similitud, existen 6 grupos, pero uno de ellos tiene el 94.7 % de las moléculas. Con 0.9, hay un total de 60 grupos distintos, en el que un grupo destaca por integrar 21 moléculas, pero los demás solo alojan al rededor de 2."
   ]
  }
 ],
 "metadata": {
  "kernelspec": {
   "display_name": "Python 3",
   "language": "python",
   "name": "python3"
  },
  "language_info": {
   "codemirror_mode": {
    "name": "ipython",
    "version": 3
   },
   "file_extension": ".py",
   "mimetype": "text/x-python",
   "name": "python",
   "nbconvert_exporter": "python",
   "pygments_lexer": "ipython3",
   "version": "3.6.3"
  }
 },
 "nbformat": 4,
 "nbformat_minor": 2
}
