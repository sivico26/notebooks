{
 "cells": [
  {
   "cell_type": "markdown",
   "metadata": {},
   "source": [
    "# **Tarea 2: Uso de UCSF Chimera**\n",
    "\n",
    "### Simón Villanueva Corrales\n",
    "\n",
    "#### **Proteína UYCR**"
   ]
  },
  {
   "cell_type": "markdown",
   "metadata": {},
   "source": [
    "Primero procederemos a obtener las distintas representaciones de la estructura de la proteina:\n",
    "<bc>\n",
    "\n",
    "#### **Wire**\n",
    "![Wire](https://github.com/sivico26/notebooks/blob/master/Tarea2_mod_mol/wire_str.png?raw=true)\n",
    "<bc>\n",
    "\n",
    "#### **Ribbon**\n",
    "![Ribbon](https://github.com/sivico26/notebooks/blob/master/Tarea2_mod_mol/ribbon_str.png?raw=true)\n",
    "<bc>\n",
    "\n",
    "#### **Surface**\n",
    "![Surface](https://github.com/sivico26/notebooks/blob/master/Tarea2_mod_mol/surface_str.png?raw=true)\n",
    "<bc>\n"
   ]
  },
  {
   "cell_type": "markdown",
   "metadata": {},
   "source": [
    "### **Comparación de estructuras**"
   ]
  },
  {
   "cell_type": "markdown",
   "metadata": {},
   "source": [
    "La secuencia que dice Chimera es la siguiente:\n",
    "\n",
    "GSMELLQGKTFVVMGVANQRSIAWGIARSLHNAGAKLIFTYAGERLERNVRELADTLEGQESLVLPCDVTNDEELTACFETIKQEVGTIHGVAHCIAFANRDDLKGEFVDTSRDGFLLAQNISAFSLTAVAREAKKVMTEGGNILTLTYLGGERVVKNYNVMGVAKASLEASVKYLANDLGQHGIRVNAISAGPIRTLSAKGVGDFNSILREIEERAPLRRTTTQEEVGDTAVFLFSDLARGVTGENIHVDSGYHILG\n",
    "\n",
    "La secuencia extraida del fasta del PDB es la siguiente:\n",
    "\n",
    "GSMELLQGKTFVVMGVANQRSIAWGIARSLHNAGAKLIFTYAGERLERNVRELADTLEGQESLVLPCDVTNDEELTACFETIKQEVGTIHGVAHCIAFANRDDLKGEFVDTSRDGFLLAQNISAFSLTAVAREAKKVMTEGGNILTLTYLGGERVVKNYNVMGVAKASLEASVKYLANDLGQHGIRVNAISAGPIRTLSAKGVGDFNSILREIEERAPLRRTTTQEEVGDTAVFLFSDLARGVTGENIHVDSGYHILG\n",
    "\n",
    "Aunque aparenta ser la misma, verifiquemoslo:"
   ]
  },
  {
   "cell_type": "code",
   "execution_count": 4,
   "metadata": {},
   "outputs": [
    {
     "data": {
      "text/plain": [
       "True"
      ]
     },
     "execution_count": 4,
     "metadata": {},
     "output_type": "execute_result"
    }
   ],
   "source": [
    "Chim_seq = \"GSMELLQGKTFVVMGVANQRSIAWGIARSLHNAGAKLIFTYAGERLERNVRELADTLEGQESLVLPCDVTNDEELTACFETIKQEVGTIHGVAHCIAFANRDDLKGEFVDTSRDGFLLAQNISAFSLTAVAREAKKVMTEGGNILTLTYLGGERVVKNYNVMGVAKASLEASVKYLANDLGQHGIRVNAISAGPIRTLSAKGVGDFNSILREIEERAPLRRTTTQEEVGDTAVFLFSDLARGVTGENIHVDSGYHILG\"\n",
    "PDB_seq = \"GSMELLQGKTFVVMGVANQRSIAWGIARSLHNAGAKLIFTYAGERLERNVRELADTLEGQESLVLPCDVTNDEELTACFETIKQEVGTIHGVAHCIAFANRDDLKGEFVDTSRDGFLLAQNISAFSLTAVAREAKKVMTEGGNILTLTYLGGERVVKNYNVMGVAKASLEASVKYLANDLGQHGIRVNAISAGPIRTLSAKGVGDFNSILREIEERAPLRRTTTQEEVGDTAVFLFSDLARGVTGENIHVDSGYHILG\"\n",
    "Chim_seq is PDB_seq"
   ]
  },
  {
   "cell_type": "markdown",
   "metadata": {},
   "source": [
    "Ya no es mera especulación. Ahora comparemos la estructura secundaria:\n",
    "<br>\n",
    "![Comp_SS](https://github.com/sivico26/notebooks/blob/master/Tarea2_mod_mol/ss_comparison.png?raw=true)\n",
    "<br>\n",
    "Los recuadros verdes son hojas-$\\beta$ y los amarillos son helices-$\\alpha$. Es evidente que la predicción de Chimera es diferente a la estructura real de la proteina. En general se podría decir que se predicen más hojas-$\\beta$ que las que en realidad tiene la estructura"
   ]
  },
  {
   "cell_type": "markdown",
   "metadata": {},
   "source": [
    "#### **Mutación de residuo**"
   ]
  },
  {
   "cell_type": "markdown",
   "metadata": {},
   "source": [
    "Elegimos el residuo de alanina 40 de la cadena A porque es un residuo muy cercano al punto de union de la molécula NAD:\n",
    "\n",
    "![mut1](https://github.com/sivico26/notebooks/blob/master/Tarea2_mod_mol/mutacion1.png?raw=true)\n",
    "<br>\n",
    "Para mutar este residuo, nos basamos en la [preferencia codónica](http://www.kazusa.or.jp/codon/cgi-bin/showcodon.cgi?species=1613&aa=1&style=N) de *Lactobacillus fermentum* , ya que que la de *Bacillus cereus* no se encuentra reportada, y esta especie es relativamente cercana.\n",
    "<br>\n",
    "Los residuos que podría surgir por una mutación individual de la tripleta codónica(un SNP) que dio origen a la alanina son: Serina, Prolina, Treonina, Valina, ácido aspártico(D), ácido Glutámico(E) y Glicina. Por intereses didácticos(la idea es causar estragos), descartamos los aminoacidos que pertenecen al mismo grupo funcional de la alanina: los alifáticos (G, P, V). Así, nos quedan la SER y THR como aminoácidos hidroxílicos y GLU y ASP como aminoacidos ácidos.\n",
    "\n"
   ]
  },
  {
   "cell_type": "markdown",
   "metadata": {},
   "source": [
    "Veamos los aminoácidos hidroxilicos, como quedarían orientados:\n",
    "\n",
    "**Serina:**\n",
    "![ser](https://github.com/sivico26/notebooks/blob/master/Tarea2_mod_mol/mutacion2_SER.png?raw=true)\n",
    "**Treonina:**\n",
    "![thr](https://github.com/sivico26/notebooks/blob/master/Tarea2_mod_mol/mutacion2_THR.png?raw=true)"
   ]
  },
  {
   "cell_type": "markdown",
   "metadata": {},
   "source": [
    "Por otro lado, los aminoacidos ácidos:\n",
    "<br>\n",
    "**Ácido Glutamico** (esta orientación del ácido glutámico se ve prometedora...):\n",
    "![glu](https://github.com/sivico26/notebooks/blob/master/Tarea2_mod_mol/mutacion2_GLU.png?raw=true)\n",
    "**Ácido Aspártico** (este también se ve prometedor)\n",
    "![asp](https://github.com/sivico26/notebooks/blob/master/Tarea2_mod_mol/mutacion2_ASP.png?raw=true)"
   ]
  },
  {
   "cell_type": "markdown",
   "metadata": {},
   "source": [
    "Por fines ~~destructivos~~ didácticos, muteremos a ácido glutámico, el cual parece interendría más con el NAD"
   ]
  },
  {
   "cell_type": "markdown",
   "metadata": {},
   "source": [
    "Tras mutar ALA -> GLU y hacer un análisis de colisiones, este es el resultado: \n",
    "<br>\n",
    "![clashes](https://github.com/sivico26/notebooks/blob/master/Tarea2_mod_mol/mutacion3.png?raw=true)\n",
    "<br>\n",
    "Con tantas colisiones con el NAD, es muy probable que el GLU interfiera con la correcta posición de este en el sitio activo. Procederemos a hacer una minimización de los choques a ver si la situación mejora. \n",
    "<br>\n"
   ]
  },
  {
   "cell_type": "markdown",
   "metadata": {},
   "source": [
    "![min_par](https://github.com/sivico26/notebooks/blob/master/Tarea2_mod_mol/min_par.png?raw=true)\n",
    "\n",
    "Después de 100 pasos de minimización y 10 pasos de gradiente conjugado(grave error para el computo), parece que las colisiones se remediaron:\n",
    "\n",
    "![nueva_com](https://github.com/sivico26/notebooks/blob/master/Tarea2_mod_mol/mutacion4.png?raw=true)"
   ]
  },
  {
   "cell_type": "markdown",
   "metadata": {},
   "source": [
    "Ya habría que entrar a examinar si esa orientación del NAD es apta para la catálisis que hace la énzima, pero eso lo dejaremos para otra tarea. \n",
    "<br>\n",
    "Cheers."
   ]
  }
 ],
 "metadata": {
  "kernelspec": {
   "display_name": "Python 3",
   "language": "python",
   "name": "python3"
  },
  "language_info": {
   "codemirror_mode": {
    "name": "ipython",
    "version": 3
   },
   "file_extension": ".py",
   "mimetype": "text/x-python",
   "name": "python",
   "nbconvert_exporter": "python",
   "pygments_lexer": "ipython3",
   "version": "3.6.4"
  }
 },
 "nbformat": 4,
 "nbformat_minor": 2
}
