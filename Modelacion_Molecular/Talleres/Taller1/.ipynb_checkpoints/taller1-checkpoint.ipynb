{
 "cells": [
  {
   "cell_type": "markdown",
   "metadata": {},
   "source": [
    "# **Taller de Modelación Molecular 1**\n",
    "\n",
    "## Simón Villanueva Corrales"
   ]
  },
  {
   "cell_type": "markdown",
   "metadata": {},
   "source": [
    "### **Proteina TIF4A-3 (*Arabidopsis thaliana*)**\n",
    "\n",
    "[TIF4A-3](http://www.uniprot.org/uniprot/Q9CAI7) es una subunidad del factor de iniciación 4 de la traducción."
   ]
  },
  {
   "cell_type": "markdown",
   "metadata": {},
   "source": [
    "### **Modelos**\n",
    "\n",
    "##### **Modbase**\n",
    "\n",
    "El Modbase cuenta con un modelo basado en la cadena A de la hidrolasa [2J0S(PDB)](https://www.rcsb.org/structure/2j0s) de *Homo sapiens* con un 66% de identidad\n",
    "\n",
    "##### **I-TASSER**\n",
    "\n",
    "I-TASSER por su parte estimó un modelo con un C-score = -1.36 y un TM-score = 0.55 $\\pm$ 0.15"
   ]
  },
  {
   "cell_type": "markdown",
   "metadata": {},
   "source": [
    "### **Evaluación de modelos**"
   ]
  },
  {
   "cell_type": "markdown",
   "metadata": {},
   "source": [
    "#### **SWISS-MODEL**\n",
    "\n"
   ]
  },
  {
   "cell_type": "markdown",
   "metadata": {},
   "source": [
    "#### **Anolea**"
   ]
  },
  {
   "cell_type": "markdown",
   "metadata": {},
   "source": [
    "Los perfiles energéticos de los modelos se presentan a continuación. Recordando que los picos verdes representan baja energía, y los rojos alta, el modelo de I-TASSER presenta un perfil energético mucho menos favorable que el modelo de modbase."
   ]
  },
  {
   "cell_type": "markdown",
   "metadata": {},
   "source": [
    "| Modbase | I-TASSER |\n",
    "|---------|----------|\n",
    "| <img src=\"https://github.com/sivico26/notebooks/blob/master/Modelacion_Molecular/Talleres/Taller1/Images/Anolea_TIF4A-3_mb.png?raw=true\" width=\"400\"/> | <img src=\"https://github.com/sivico26/notebooks/blob/master/Modelacion_Molecular/Talleres/Taller1/Images/Anolea_TIF4A-3_it.png?raw=true\" width=\"400\"/> |"
   ]
  },
  {
   "cell_type": "markdown",
   "metadata": {},
   "source": [
    "##### **QMEAN6 score**"
   ]
  },
  {
   "cell_type": "markdown",
   "metadata": {},
   "source": [
    "El QMEAN6-score del modelo de Modbase es superior al del modelo de I-TASSER. En los gráficos se puede ver que el Z-score del modelo de Modbase se encuentra dentro de la normalidad, a diferencia del Z-score del modelo de I-TASSER, que es un valor atípico dentro de la distribución de proteinas de su mismo tamaño. "
   ]
  },
  {
   "cell_type": "markdown",
   "metadata": {},
   "source": [
    "| Modbase | I-TASSER |\n",
    "|---------|----------|\n",
    "| QMEAN6-score = 0.831 | QMEAN6-score = 0.315 |\n",
    "| <img src=\"https://github.com/sivico26/notebooks/blob/master/Modelacion_Molecular/Talleres/Taller1/Images/QMEAN_plots_TIF4A-3_mb.png?raw=true\" width=\"400\"/> | <img src=\"https://github.com/sivico26/notebooks/blob/master/Modelacion_Molecular/Talleres/Taller1/Images/QMEAN_plots_TIF4A-3_it.png?raw=true\" width=\"400\"/> |\n",
    "\n",
    "\n"
   ]
  },
  {
   "cell_type": "markdown",
   "metadata": {},
   "source": [
    "\n",
    "##### **Ramachandran**"
   ]
  },
  {
   "cell_type": "markdown",
   "metadata": {},
   "source": [
    "En el gráfico de Ramachandran la diferencia entre los modelos es aplastante. la siguiente tabla muestra el resumen en este aspecto\n",
    "\n",
    "\n",
    "|        | Core | Add-allow | Gen-allow | Disallow |\n",
    "|--------|------|-----------|-----------|------------|\n",
    "| Modbase  | 95.3% | 4.7% | 0% | 0% |\n",
    "| I-TASSER | 63.4% | 28.2%| 6.2%|2.1%| \n",
    "\n",
    "Donde: <br>\n",
    "Core: Regiones más favorecidas <br>\n",
    "Add-allow: Regiones adicionales permitidas <br>\n",
    "Gen-allow: Regiones generosamente permitidas <br>\n",
    "Disallow: Regiones no permitidas <br>"
   ]
  },
  {
   "cell_type": "markdown",
   "metadata": {},
   "source": [
    "Aquí es clara la superioridad del modelo de Modbase sobre el modelo de I-TASSER"
   ]
  },
  {
   "cell_type": "markdown",
   "metadata": {},
   "source": [
    "##### **ProSA-web**"
   ]
  },
  {
   "cell_type": "markdown",
   "metadata": {},
   "source": [
    "El Z-score generado por [ProSA-web](https://prosa.services.came.sbg.ac.at/prosa.php) fue de -8.93 para el modelo de Modbase, mientras que el modelo de I-TASSER obtuvo un -7.14. Es evidente que el modelo de modbase obtuvo un resultado más \"normal\"(estádisticamente hablando) que el modelo de I-TASSER, aunque el resultado del modelo de I-TASSER tampoco está mal."
   ]
  },
  {
   "cell_type": "markdown",
   "metadata": {},
   "source": [
    "| Modbase | I-TASSER |\n",
    "|:-------:|:--------:|\n",
    "| <img src=\"https://github.com/sivico26/notebooks/blob/master/Modelacion_Molecular/Talleres/Taller1/Images/z-score_prosa_TIF4A-3_mb.png?raw=true\" width=\"400\"/> | <img src=\"https://github.com/sivico26/notebooks/blob/master/Modelacion_Molecular/Talleres/Taller1/Images/z-score_prosa_TIF4A-3_it.png?raw=true\" width=\"400\"/> |"
   ]
  },
  {
   "cell_type": "markdown",
   "metadata": {},
   "source": [
    "Y la calidad del modelo local también para el modelo de Modbase es muy bueno, siendo la mayoria de las regiones negativas. Sin embargo, No se puede decir lo mismo del modelo de I-TASSER que, siendo aceptable, en comparación con Modbase, su perfil es mucho más cercano a 0 y tiene muchos picos que lo sobrepasan este límite."
   ]
  },
  {
   "cell_type": "markdown",
   "metadata": {},
   "source": [
    "| Modbase | I-TASSER |\n",
    "|:-------:|:--------:|\n",
    "| <img src=\"https://github.com/sivico26/notebooks/blob/master/Modelacion_Molecular/Talleres/Taller1/Images/wq_prosa_TIF4A-3_mb.png?raw=true\" width=\"400\"> | <img src=\"https://github.com/sivico26/notebooks/blob/master/Modelacion_Molecular/Talleres/Taller1/Images/wq_prosa_TIF4A-3_it.png?raw=true\" width=\"400\"> |"
   ]
  },
  {
   "cell_type": "markdown",
   "metadata": {},
   "source": [
    "#### **Alineamiento en Chimera**"
   ]
  },
  {
   "cell_type": "markdown",
   "metadata": {},
   "source": [
    "El alineamiento de ambos modelos por Chimera arrojó un RMSD de 1.353 $\\dot{A}$ con solo 10 átomos alineados de 325 totales, lo cual es muestra de lo diferentes que son ambos modelos.\n",
    "\n",
    "![alineamiento](https://github.com/sivico26/notebooks/blob/master/Modelacion_Molecular/Talleres/Taller1/Images/alineamiento.png?raw=true)"
   ]
  },
  {
   "cell_type": "markdown",
   "metadata": {},
   "source": [
    "### **Proteina FAH12 (*Ricinus communis*)**\n",
    "\n",
    "[FAH12](http://www.uniprot.org/uniprot/Q41131) es una desaturasa que cataliza la insaturación $\\Delta12$ en la síntesis de ácidos grasos"
   ]
  },
  {
   "cell_type": "markdown",
   "metadata": {},
   "source": [
    "#### **Modelos**\n",
    "\n",
    "##### **Modbase**\n",
    "\n",
    "Modbase no cuenta con un modelo para esta proteina, por lo que se mando una solicitud de modelación. Desafortunadamente Modbase no pudo encontrar nigún modelo confiable. \n",
    "\n",
    "![fail](https://github.com/sivico26/notebooks/blob/master/Modelacion_Molecular/Talleres/Taller1/Images/modweb_fail_FAH12.png?raw=true)\n",
    "\n",
    "\n",
    "##### **I-TASSER**\n",
    "\n",
    "I-TASSER por su parte estimó un modelo con un C-score = -2.64 y un TM-score = 0.41 $\\pm$ 0.14"
   ]
  },
  {
   "cell_type": "markdown",
   "metadata": {},
   "source": [
    "### **Evaluación de modelos**"
   ]
  },
  {
   "cell_type": "markdown",
   "metadata": {},
   "source": [
    "#### **SWISS-MODEL**\n",
    "\n"
   ]
  },
  {
   "cell_type": "markdown",
   "metadata": {},
   "source": [
    "#### **Anolea**"
   ]
  },
  {
   "cell_type": "markdown",
   "metadata": {},
   "source": [
    "El perfil energético de los modelo se presenta a continuación. En general, el modelo de I-TASSER presenta un perfil energético que tiende a la neutrialidad, pero con regiones con picos bastante altos, lo que hace nuevamete al modelo improbable."
   ]
  },
  {
   "cell_type": "markdown",
   "metadata": {},
   "source": [
    "| I-TASSER |\n",
    "|----------|\n",
    "| <img src=\"https://github.com/sivico26/notebooks/blob/master/Modelacion_Molecular/Talleres/Taller1/Images/Anolea_FAH12_it.png?raw=true\" width=\"400\"/> |"
   ]
  },
  {
   "cell_type": "markdown",
   "metadata": {},
   "source": [
    "##### **QMEAN6 score**"
   ]
  },
  {
   "cell_type": "markdown",
   "metadata": {},
   "source": [
    "El QMEAN6-score del modelo de I-TASSER resulto ser de 0.31. En el gráfico se puede ver que el Z-score se encuentra lejos de la normalidad, evidencia de que el modelo es poco probable. "
   ]
  },
  {
   "cell_type": "markdown",
   "metadata": {},
   "source": [
    "| I-TASSER |\n",
    "|----------|\n",
    "| QMEAN6-score = 0.310 |\n",
    "| <img src=\"https://github.com/sivico26/notebooks/blob/master/Modelacion_Molecular/Talleres/Taller1/Images/QMEAN_plots_FAH12_it.png?raw=true\" width=\"400\"/> |\n",
    "\n"
   ]
  },
  {
   "cell_type": "markdown",
   "metadata": {},
   "source": [
    "\n",
    "##### **Ramachandran**"
   ]
  },
  {
   "cell_type": "markdown",
   "metadata": {},
   "source": [
    "El gráfico de Ramachandran presenta muchos residuos fuera de las zonas favorables, similar al modelo de TIF4A-3 generado por I-TASSER. La siguiente tabla muestra el resumen en este aspecto\n",
    "\n",
    "\n",
    "|        | Core | Add-allow | Gen-allow | Disallow |\n",
    "|--------|------|-----------|-----------|------------|\n",
    "| FAH12 | 57.9% | 29.3%| 8.4% |4.5%| \n",
    "| TIF4A-3 | 63.4% | 28.2%| 6.2%|2.1%| \n",
    "\n",
    "\n",
    "Donde: <br>\n",
    "Core: Regiones más favorecidas <br>\n",
    "Add-allow: Regiones adicionales permitidas <br>\n",
    "Gen-allow: Regiones generosamente permitidas <br>\n",
    "Disallow: Regiones no permitidas <br>"
   ]
  },
  {
   "cell_type": "markdown",
   "metadata": {},
   "source": [
    "##### **ProSA-web**"
   ]
  },
  {
   "cell_type": "markdown",
   "metadata": {},
   "source": [
    "El Z-score generado por [ProSA-web](https://prosa.services.came.sbg.ac.at/prosa.php) fue de -0.14 para el modelo de I-TASSER. Es un valor muy positivo y bastante atipico respeto a los valores de las demás proteinas de la misma longitud. "
   ]
  },
  {
   "cell_type": "markdown",
   "metadata": {},
   "source": [
    "| I-TASSER |\n",
    "| -------- |\n",
    "| <img src=\"https://github.com/sivico26/notebooks/blob/master/Modelacion_Molecular/Talleres/Taller1/Images/z-score_prosa_FAH12_it.png?raw=true\" width=\"400\"/> |"
   ]
  },
  {
   "cell_type": "markdown",
   "metadata": {},
   "source": [
    "Y la calidad del modelo local también para el modelo de I-TASSER es bastante positivo, dando a entender que el modelo es poco probable energéticamente."
   ]
  },
  {
   "cell_type": "markdown",
   "metadata": {},
   "source": [
    "| I-TASSER |\n",
    "| -------- |\n",
    "|<img src=\"https://github.com/sivico26/notebooks/blob/master/Modelacion_Molecular/Talleres/Taller1/Images/wq_prosa_FAH12_it.png?raw=true\" width=\"400\">|"
   ]
  },
  {
   "cell_type": "markdown",
   "metadata": {},
   "source": [
    "### **Conclusiones**"
   ]
  },
  {
   "cell_type": "markdown",
   "metadata": {},
   "source": [
    "- Los modelos construidos para la proteina TIF4A-3 fueron muy diferentes. Modbase llegó a un modelo mejor que I-TASSER\n",
    "- Modbase fue incapaz de construir un modelo confiable para la proteina FAH12.\n",
    "- Aunque I-TASSER si construyó un modelo para la FAH12, es bastante improbable que el modelo no sea preciso."
   ]
  }
 ],
 "metadata": {
  "kernelspec": {
   "display_name": "Python 3",
   "language": "python",
   "name": "python3"
  },
  "language_info": {
   "codemirror_mode": {
    "name": "ipython",
    "version": 3
   },
   "file_extension": ".py",
   "mimetype": "text/x-python",
   "name": "python",
   "nbconvert_exporter": "python",
   "pygments_lexer": "ipython3",
   "version": "3.6.3"
  }
 },
 "nbformat": 4,
 "nbformat_minor": 2
}
